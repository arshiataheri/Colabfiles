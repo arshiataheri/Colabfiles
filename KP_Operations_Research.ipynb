{
  "nbformat": 4,
  "nbformat_minor": 0,
  "metadata": {
    "colab": {
      "provenance": [],
      "authorship_tag": "ABX9TyM9X9aCt5K/ctDHNDkkqtrH"
    },
    "kernelspec": {
      "name": "python3",
      "display_name": "Python 3"
    },
    "language_info": {
      "name": "python"
    }
  },
  "cells": [
    {
      "cell_type": "markdown",
      "source": [
        "## ORTOOLS"
      ],
      "metadata": {
        "id": "fkGozjIX0MmE"
      }
    },
    {
      "cell_type": "code",
      "source": [
        "!pip install ortools"
      ],
      "metadata": {
        "colab": {
          "base_uri": "https://localhost:8080/"
        },
        "id": "r452wGjQtMLk",
        "outputId": "e8b079d3-2b5c-4d4f-8465-cd113b15829f"
      },
      "execution_count": 3,
      "outputs": [
        {
          "output_type": "stream",
          "name": "stdout",
          "text": [
            "Collecting ortools\n",
            "  Downloading ortools-9.8.3296-cp310-cp310-manylinux_2_17_x86_64.manylinux2014_x86_64.whl (22.9 MB)\n",
            "\u001b[2K     \u001b[90m━━━━━━━━━━━━━━━━━━━━━━━━━━━━━━━━━━━━━━━━\u001b[0m \u001b[32m22.9/22.9 MB\u001b[0m \u001b[31m10.5 MB/s\u001b[0m eta \u001b[36m0:00:00\u001b[0m\n",
            "\u001b[?25hCollecting absl-py>=2.0.0 (from ortools)\n",
            "  Downloading absl_py-2.1.0-py3-none-any.whl (133 kB)\n",
            "\u001b[2K     \u001b[90m━━━━━━━━━━━━━━━━━━━━━━━━━━━━━━━━━━━━━━━━\u001b[0m \u001b[32m133.7/133.7 kB\u001b[0m \u001b[31m16.1 MB/s\u001b[0m eta \u001b[36m0:00:00\u001b[0m\n",
            "\u001b[?25hRequirement already satisfied: numpy>=1.13.3 in /usr/local/lib/python3.10/dist-packages (from ortools) (1.23.5)\n",
            "Collecting pandas>=2.0.0 (from ortools)\n",
            "  Downloading pandas-2.2.0-cp310-cp310-manylinux_2_17_x86_64.manylinux2014_x86_64.whl (13.0 MB)\n",
            "\u001b[2K     \u001b[90m━━━━━━━━━━━━━━━━━━━━━━━━━━━━━━━━━━━━━━━━\u001b[0m \u001b[32m13.0/13.0 MB\u001b[0m \u001b[31m16.3 MB/s\u001b[0m eta \u001b[36m0:00:00\u001b[0m\n",
            "\u001b[?25hCollecting protobuf>=4.25.0 (from ortools)\n",
            "  Downloading protobuf-4.25.2-cp37-abi3-manylinux2014_x86_64.whl (294 kB)\n",
            "\u001b[2K     \u001b[90m━━━━━━━━━━━━━━━━━━━━━━━━━━━━━━━━━━━━━━━━\u001b[0m \u001b[32m294.6/294.6 kB\u001b[0m \u001b[31m12.8 MB/s\u001b[0m eta \u001b[36m0:00:00\u001b[0m\n",
            "\u001b[?25hRequirement already satisfied: python-dateutil>=2.8.2 in /usr/local/lib/python3.10/dist-packages (from pandas>=2.0.0->ortools) (2.8.2)\n",
            "Requirement already satisfied: pytz>=2020.1 in /usr/local/lib/python3.10/dist-packages (from pandas>=2.0.0->ortools) (2023.4)\n",
            "Collecting tzdata>=2022.7 (from pandas>=2.0.0->ortools)\n",
            "  Downloading tzdata-2023.4-py2.py3-none-any.whl (346 kB)\n",
            "\u001b[2K     \u001b[90m━━━━━━━━━━━━━━━━━━━━━━━━━━━━━━━━━━━━━━━━\u001b[0m \u001b[32m346.6/346.6 kB\u001b[0m \u001b[31m15.7 MB/s\u001b[0m eta \u001b[36m0:00:00\u001b[0m\n",
            "\u001b[?25hRequirement already satisfied: six>=1.5 in /usr/local/lib/python3.10/dist-packages (from python-dateutil>=2.8.2->pandas>=2.0.0->ortools) (1.16.0)\n",
            "Installing collected packages: tzdata, protobuf, absl-py, pandas, ortools\n",
            "  Attempting uninstall: protobuf\n",
            "    Found existing installation: protobuf 3.20.3\n",
            "    Uninstalling protobuf-3.20.3:\n",
            "      Successfully uninstalled protobuf-3.20.3\n",
            "  Attempting uninstall: absl-py\n",
            "    Found existing installation: absl-py 1.4.0\n",
            "    Uninstalling absl-py-1.4.0:\n",
            "      Successfully uninstalled absl-py-1.4.0\n",
            "  Attempting uninstall: pandas\n",
            "    Found existing installation: pandas 1.5.3\n",
            "    Uninstalling pandas-1.5.3:\n",
            "      Successfully uninstalled pandas-1.5.3\n",
            "\u001b[31mERROR: pip's dependency resolver does not currently take into account all the packages that are installed. This behaviour is the source of the following dependency conflicts.\n",
            "lida 0.0.10 requires fastapi, which is not installed.\n",
            "lida 0.0.10 requires kaleido, which is not installed.\n",
            "lida 0.0.10 requires python-multipart, which is not installed.\n",
            "lida 0.0.10 requires uvicorn, which is not installed.\n",
            "bigframes 0.20.1 requires pandas<2.1.4,>=1.5.0, but you have pandas 2.2.0 which is incompatible.\n",
            "google-colab 1.0.0 requires pandas==1.5.3, but you have pandas 2.2.0 which is incompatible.\n",
            "tensorboard 2.15.1 requires protobuf<4.24,>=3.19.6, but you have protobuf 4.25.2 which is incompatible.\n",
            "tensorflow-metadata 1.14.0 requires absl-py<2.0.0,>=0.9, but you have absl-py 2.1.0 which is incompatible.\n",
            "tensorflow-metadata 1.14.0 requires protobuf<4.21,>=3.20.3, but you have protobuf 4.25.2 which is incompatible.\u001b[0m\u001b[31m\n",
            "\u001b[0mSuccessfully installed absl-py-2.1.0 ortools-9.8.3296 pandas-2.2.0 protobuf-4.25.2 tzdata-2023.4\n"
          ]
        }
      ]
    },
    {
      "cell_type": "code",
      "execution_count": 3,
      "metadata": {
        "id": "pPfYsmH3tC9s"
      },
      "outputs": [],
      "source": [
        "# Import OR-Tools' wrapper for linear solvers\n",
        "from ortools.linear_solver import pywraplp\n",
        "\n"
      ]
    },
    {
      "cell_type": "code",
      "source": [
        "UNITS = [\n",
        "    '🗡️Swordsmen',\n",
        "    '🛡️Men-at-arms',\n",
        "    '🏹Bowmen',\n",
        "    '❌Crossbowmen',\n",
        "    '🔫Handcannoneers',\n",
        "    '🐎Horsemen',\n",
        "    '♞Knights',\n",
        "    '🐏Battering rams',\n",
        "    '🎯Springalds',\n",
        "    '🪨Mangonels',\n",
        "]\n",
        "\n",
        "DATA = [\n",
        "    [60, 20, 0, 6, 70],\n",
        "    [100, 0, 20, 12, 155],\n",
        "    [30, 50, 0, 5, 70],\n",
        "    [80, 0, 40, 12, 80],\n",
        "    [120, 0, 120, 35, 150],\n",
        "    [100, 20, 0, 9, 125],\n",
        "    [140, 0, 100, 24, 230],\n",
        "    [0, 300, 0, 200, 700],\n",
        "    [0, 250, 250, 30, 200],\n",
        "    [0, 400, 200, 12*3, 240]\n",
        "]\n",
        "\n",
        "RESOURCES = [183000, 90512, 80150]\n",
        "\n",
        "\n",
        "def solve_army(UNITS, DATA, RESOURCES):\n",
        "  # Create the linear solver using the CBC backend\n",
        "  solver = pywraplp.Solver('Maximize army power', pywraplp.Solver.CBC_MIXED_INTEGER_PROGRAMMING)\n",
        "\n",
        "  # 1. Create the variables we want to optimize\n",
        "  units = [solver.IntVar(0, solver.infinity(), unit) for unit in UNITS]\n",
        "\n",
        "  # 2. Add constraints for each resource\n",
        "  for r, _ in enumerate(RESOURCES):\n",
        "    solver.Add(sum(DATA[u][r] * units[u] for u, _ in enumerate(units)) <= RESOURCES[r])\n",
        "\n",
        "  # 3. Maximize the new objective function\n",
        "  solver.Maximize(sum((10*DATA[u][-2] + DATA[u][-1]) * units[u] for u, _ in enumerate(units)))\n",
        "\n",
        "  # Solve problem\n",
        "  status = solver.Solve()\n",
        "\n",
        "  # If an optimal solution has been found, print results\n",
        "  if status == pywraplp.Solver.OPTIMAL:\n",
        "    print('================= Solution =================')\n",
        "    print(f'Solved in {solver.wall_time():.2f} milliseconds in {solver.iterations()} iterations')\n",
        "    print()\n",
        "    print(f'Optimal value = {solver.Objective().Value()} 💪power')\n",
        "    print('Army:')\n",
        "    for u, _ in enumerate(units):\n",
        "      print(f' - {units[u].name()} = {units[u].solution_value()}')\n",
        "  else:\n",
        "    print('The solver could not find an optimal solution.')\n",
        "\n",
        "solve_army(UNITS, DATA, RESOURCES)"
      ],
      "metadata": {
        "id": "M4yaKpQxwAJ5",
        "colab": {
          "base_uri": "https://localhost:8080/"
        },
        "outputId": "ce598f9b-a20c-4427-ff4d-e04311bed0d6"
      },
      "execution_count": 4,
      "outputs": [
        {
          "output_type": "stream",
          "name": "stdout",
          "text": [
            "================= Solution =================\n",
            "Solved in 32.00 milliseconds in 412 iterations\n",
            "\n",
            "Optimal value = 1393145.0 💪power\n",
            "Army:\n",
            " - 🗡️Swordsmen = 2.0\n",
            " - 🛡️Men-at-arms = 1283.0\n",
            " - 🏹Bowmen = 3.0\n",
            " - ❌Crossbowmen = 0.0\n",
            " - 🔫Handcannoneers = 454.0\n",
            " - 🐎Horsemen = 0.0\n",
            " - ♞Knights = 0.0\n",
            " - 🐏Battering rams = 301.0\n",
            " - 🎯Springalds = 0.0\n",
            " - 🪨Mangonels = 0.0\n"
          ]
        }
      ]
    },
    {
      "cell_type": "code",
      "source": [
        "from ortools.sat.python import cp_model\n",
        "# Instantiate model and solver\n",
        "model = cp_model.CpModel()\n",
        "solver = cp_model.CpSolver()\n",
        "\n",
        "# 1. Variables\n",
        "capacity = 19\n",
        "bread = model.NewIntVar(0, capacity, 'bread')\n",
        "meat  = model.NewIntVar(0, capacity, 'meat')\n",
        "beer  = model.NewIntVar(0, capacity, 'beer')\n",
        "\n",
        "# 2. Constraints\n",
        "model.Add(1 * bread\n",
        "        + 3 * meat\n",
        "        + 7 * beer <= capacity)\n",
        "\n",
        "# 3. Objective\n",
        "model.Maximize(3  * bread\n",
        "             + 10 * meat\n",
        "             + 26 * beer)\n",
        "\n",
        "# Solve problem\n",
        "status = solver.Solve(model)\n",
        "\n",
        "# If an optimal solution has been found, print results\n",
        "if status == cp_model.OPTIMAL:\n",
        "    print('================= Solution =================')\n",
        "    print(f'Solved in {solver.WallTime():.2f} milliseconds')\n",
        "    print()\n",
        "    print(f'Optimal value = {3*solver.Value(bread)+10*solver.Value(meat)+26*solver.Value(beer)} popularity')\n",
        "    print('Food:')\n",
        "    print(f' - 🥖Bread = {solver.Value(bread)}')\n",
        "    print(f' - 🥩Meat  = {solver.Value(meat)}')\n",
        "    print(f' - 🍺Beer  = {solver.Value(beer)}')\n",
        "else:\n",
        "    print('The solver could not find an optimal solution.')"
      ],
      "metadata": {
        "colab": {
          "base_uri": "https://localhost:8080/"
        },
        "id": "-0bJ6lTFzk7D",
        "outputId": "78a659c1-f087-438f-e7dc-e088330d62af"
      },
      "execution_count": 4,
      "outputs": [
        {
          "output_type": "stream",
          "name": "stdout",
          "text": [
            "================= Solution =================\n",
            "Solved in 0.01 milliseconds\n",
            "\n",
            "Optimal value = 68 popularity\n",
            "Food:\n",
            " - 🥖Bread = 2\n",
            " - 🥩Meat  = 1\n",
            " - 🍺Beer  = 2\n"
          ]
        }
      ]
    },
    {
      "cell_type": "code",
      "source": [
        "class CountSolutions(cp_model.CpSolverSolutionCallback):\n",
        "    \"\"\"Count the number of solutions.\"\"\"\n",
        "\n",
        "    def __init__(self):\n",
        "        cp_model.CpSolverSolutionCallback.__init__(self)\n",
        "        self.__solution_count = 0\n",
        "\n",
        "    def on_solution_callback(self):\n",
        "        self.__solution_count += 1\n",
        "\n",
        "    def solution_count(self):\n",
        "        return self.__solution_count\n",
        "\n",
        "solution_printer = CountSolutions()\n",
        "\n",
        "# Instantiate model and solver\n",
        "model = cp_model.CpModel()\n",
        "solver = cp_model.CpSolver()\n",
        "\n",
        "# 1. Variables\n",
        "capacity = 19\n",
        "\n",
        "bread = model.NewIntVar(0, capacity, 'Bread')\n",
        "meat  = model.NewIntVar(0, capacity, 'Meat')\n",
        "beer  = model.NewIntVar(0, capacity, 'Beer')\n",
        "\n",
        "# 2. Constraints\n",
        "model.Add(1 * bread\n",
        "        + 3 * meat\n",
        "        + 7 * beer <= capacity)\n",
        "\n",
        "# Print results\n",
        "solver.parameters.enumerate_all_solutions = True\n",
        "status = solver.Solve(model, solution_printer)\n",
        "print(solution_printer.solution_count())"
      ],
      "metadata": {
        "colab": {
          "base_uri": "https://localhost:8080/"
        },
        "id": "BNyEQNfv0CFi",
        "outputId": "6bdbb312-b0ae-4d27-c6eb-b148296687ae"
      },
      "execution_count": 7,
      "outputs": [
        {
          "output_type": "stream",
          "name": "stdout",
          "text": [
            "121\n"
          ]
        }
      ]
    },
    {
      "cell_type": "code",
      "source": [
        "!pip install pulp"
      ],
      "metadata": {
        "colab": {
          "base_uri": "https://localhost:8080/"
        },
        "id": "DJghzCHE-7o5",
        "outputId": "003777d8-e048-46e4-ff53-f043155fb0c2"
      },
      "execution_count": 9,
      "outputs": [
        {
          "output_type": "stream",
          "name": "stdout",
          "text": [
            "Collecting pulp\n",
            "  Downloading PuLP-2.8.0-py3-none-any.whl (17.7 MB)\n",
            "\u001b[2K     \u001b[90m━━━━━━━━━━━━━━━━━━━━━━━━━━━━━━━━━━━━━━━━\u001b[0m \u001b[32m17.7/17.7 MB\u001b[0m \u001b[31m30.3 MB/s\u001b[0m eta \u001b[36m0:00:00\u001b[0m\n",
            "\u001b[?25hInstalling collected packages: pulp\n",
            "Successfully installed pulp-2.8.0\n"
          ]
        }
      ]
    },
    {
      "cell_type": "markdown",
      "source": [
        "## PuLP"
      ],
      "metadata": {
        "id": "Y0GagP3qntiO"
      }
    },
    {
      "cell_type": "code",
      "source": [
        "from pulp import *\n",
        "\n",
        "model = pulp.LpProblem('linear_programming', LpMaximize)\n",
        "\n",
        "# get solver\n",
        "solver = getSolver('PULP_CBC_CMD')\n",
        "\n",
        "# declare decision variables\n",
        "x1 = LpVariable('x1', lowBound = 0, cat = 'continuous')\n",
        "x2 = LpVariable('x2', lowBound = 0, cat = 'continuous')\n",
        "\n",
        "# declare objective\n",
        "model += 10*x1 + 5*x2\n",
        "\n",
        "# declare constraints\n",
        "model += x1 + x2 <= 24\n",
        "model += 10*x1 <= 100\n",
        "model += 5*x2 <= 100\n",
        "\n",
        "# solve\n",
        "results = model.solve(solver=solver)\n",
        "\n",
        "# print results\n",
        "if LpStatus[results] == 'Optimal': print('The solution is optimal.')\n",
        "print(f'Objective value: z* = {value(model.objective)}')\n",
        "print(f'Solution: x1* = {value(x1)}, x2* = {value(x2)}')\n"
      ],
      "metadata": {
        "colab": {
          "base_uri": "https://localhost:8080/"
        },
        "id": "CZ9YFHWi-53X",
        "outputId": "9da3850d-def6-4c4b-c5a8-9d6f31c577c0"
      },
      "execution_count": 11,
      "outputs": [
        {
          "output_type": "stream",
          "name": "stdout",
          "text": [
            "The solution is optimal.\n",
            "Objective value: z* = 170.0\n",
            "Solution: x1* = 10.0, x2* = 14.0\n"
          ]
        }
      ]
    },
    {
      "cell_type": "markdown",
      "source": [
        "## The Knapsack Problem"
      ],
      "metadata": {
        "id": "zB2JDEzvq17P"
      }
    },
    {
      "cell_type": "code",
      "source": [
        "from ortools.algorithms.python import knapsack_solver\n",
        "\n",
        "\n",
        "def main():\n",
        "    # Create the solver.\n",
        "    solver = knapsack_solver.KnapsackSolver(\n",
        "        knapsack_solver.SolverType.KNAPSACK_MULTIDIMENSION_BRANCH_AND_BOUND_SOLVER,\n",
        "        \"KnapsackExample\",\n",
        "    )\n",
        "\n",
        "    values = [\n",
        "        # fmt:off\n",
        "      360, 83, 59, 130, 431, 67, 230, 52, 93, 125, 670, 892, 600, 38, 48, 147,\n",
        "      78, 256, 63, 17, 120, 164, 432, 35, 92, 110, 22, 42, 50, 323, 514, 28,\n",
        "      87, 73, 78, 15, 26, 78, 210, 36, 85, 189, 274, 43, 33, 10, 19, 389, 276,\n",
        "      312\n",
        "        # fmt:on\n",
        "    ]\n",
        "    weights = [\n",
        "        # fmt: off\n",
        "      [7, 0, 30, 22, 80, 94, 11, 81, 70, 64, 59, 18, 0, 36, 3, 8, 15, 42, 9, 0,\n",
        "       42, 47, 52, 32, 26, 48, 55, 6, 29, 84, 2, 4, 18, 56, 7, 29, 93, 44, 71,\n",
        "       3, 86, 66, 31, 65, 0, 79, 20, 65, 52, 13],\n",
        "        # fmt: on\n",
        "    ]\n",
        "    capacities = [850]\n",
        "\n",
        "    solver.init(values, weights, capacities)\n",
        "    computed_value = solver.solve()\n",
        "\n",
        "    packed_items = []\n",
        "    packed_weights = []\n",
        "    total_weight = 0\n",
        "    print(\"Total value =\", computed_value)\n",
        "    for i in range(len(values)):\n",
        "        if solver.best_solution_contains(i):\n",
        "            packed_items.append(i)\n",
        "            packed_weights.append(weights[0][i])\n",
        "            total_weight += weights[0][i]\n",
        "    print(\"Total weight:\", total_weight)\n",
        "    print(\"Packed items:\", packed_items)\n",
        "    print(\"Packed_weights:\", packed_weights)\n",
        "\n",
        "\n",
        "if __name__ == \"__main__\":\n",
        "    main()"
      ],
      "metadata": {
        "colab": {
          "base_uri": "https://localhost:8080/"
        },
        "id": "h4oZaiyin0Nx",
        "outputId": "36b5fa1a-accb-4224-f4b5-a08db1f53249"
      },
      "execution_count": 12,
      "outputs": [
        {
          "output_type": "stream",
          "name": "stdout",
          "text": [
            "Total value = 7534\n",
            "Total weight: 850\n",
            "Packed items: [0, 1, 3, 4, 6, 10, 11, 12, 14, 15, 16, 17, 18, 19, 21, 22, 24, 27, 28, 29, 30, 31, 32, 34, 38, 39, 41, 42, 44, 47, 48, 49]\n",
            "Packed_weights: [7, 0, 22, 80, 11, 59, 18, 0, 3, 8, 15, 42, 9, 0, 47, 52, 26, 6, 29, 84, 2, 4, 18, 7, 71, 3, 66, 31, 0, 65, 52, 13]\n"
          ]
        }
      ]
    },
    {
      "cell_type": "markdown",
      "source": [
        "## Multiple Knapsacks"
      ],
      "metadata": {
        "id": "Me9f2qm4h2BE"
      }
    },
    {
      "cell_type": "markdown",
      "source": [
        "### MIP solver"
      ],
      "metadata": {
        "id": "lhe17ZZ2itLk"
      }
    },
    {
      "cell_type": "code",
      "source": [
        "from ortools.linear_solver import pywraplp"
      ],
      "metadata": {
        "id": "xU_lxuQHiALq"
      },
      "execution_count": 4,
      "outputs": []
    },
    {
      "cell_type": "code",
      "source": [
        "\"\"\"Solve a multiple knapsack problem using a MIP solver.\"\"\"\n",
        "from ortools.linear_solver import pywraplp\n",
        "\n",
        "\n",
        "def main():\n",
        "    data = {}\n",
        "    data[\"weights\"] = [48, 30, 42, 36, 36, 48, 42, 42, 36, 24, 30, 30, 42, 36, 36]\n",
        "    data[\"values\"] = [10, 30, 25, 50, 35, 30, 15, 40, 30, 35, 45, 10, 20, 30, 25]\n",
        "    assert len(data[\"weights\"]) == len(data[\"values\"])\n",
        "    data[\"num_items\"] = len(data[\"weights\"])\n",
        "    data[\"all_items\"] = range(data[\"num_items\"])\n",
        "\n",
        "    data[\"bin_capacities\"] = [100, 100, 100, 100, 100]\n",
        "    data[\"num_bins\"] = len(data[\"bin_capacities\"])\n",
        "    data[\"all_bins\"] = range(data[\"num_bins\"])\n",
        "\n",
        "    # Create the mip solver with the SCIP backend.\n",
        "    solver = pywraplp.Solver.CreateSolver(\"SCIP\")\n",
        "    if solver is None:\n",
        "        print(\"SCIP solver unavailable.\")\n",
        "        return\n",
        "\n",
        "    # Variables.\n",
        "    # x[i, b] = 1 if item i is packed in bin b.\n",
        "    x = {}\n",
        "    for i in data[\"all_items\"]:\n",
        "        for b in data[\"all_bins\"]:\n",
        "            x[i, b] = solver.BoolVar(f\"x_{i}_{b}\")\n",
        "\n",
        "    # Constraints.\n",
        "    # Each item is assigned to at most one bin.\n",
        "    for i in data[\"all_items\"]:\n",
        "        solver.Add(sum(x[i, b] for b in data[\"all_bins\"]) <= 1)\n",
        "\n",
        "    # The amount packed in each bin cannot exceed its capacity.\n",
        "    for b in data[\"all_bins\"]:\n",
        "        solver.Add(\n",
        "            sum(x[i, b] * data[\"weights\"][i] for i in data[\"all_items\"])\n",
        "            <= data[\"bin_capacities\"][b]\n",
        "        )\n",
        "\n",
        "    # Objective.\n",
        "    # Maximize total value of packed items.\n",
        "    objective = solver.Objective()\n",
        "    for i in data[\"all_items\"]:\n",
        "        for b in data[\"all_bins\"]:\n",
        "            objective.SetCoefficient(x[i, b], data[\"values\"][i])\n",
        "    objective.SetMaximization()\n",
        "\n",
        "    print(f\"Solving with {solver.SolverVersion()}\")\n",
        "    status = solver.Solve()\n",
        "\n",
        "    if status == pywraplp.Solver.OPTIMAL:\n",
        "        print(f\"Total packed value: {objective.Value()}\")\n",
        "        total_weight = 0\n",
        "        for b in data[\"all_bins\"]:\n",
        "            print(f\"Bin {b}\")\n",
        "            bin_weight = 0\n",
        "            bin_value = 0\n",
        "            for i in data[\"all_items\"]:\n",
        "                if x[i, b].solution_value() > 0:\n",
        "                    print(\n",
        "                        f\"Item {i} weight: {data['weights'][i]} value: {data['values'][i]}\"\n",
        "                    )\n",
        "                    bin_weight += data[\"weights\"][i]\n",
        "                    bin_value += data[\"values\"][i]\n",
        "            print(f\"Packed bin weight: {bin_weight}\")\n",
        "            print(f\"Packed bin value: {bin_value}\\n\")\n",
        "            total_weight += bin_weight\n",
        "        print(f\"Total packed weight: {total_weight}\")\n",
        "    else:\n",
        "        print(\"The problem does not have an optimal solution.\")\n",
        "\n",
        "\n",
        "if __name__ == \"__main__\":\n",
        "    main()"
      ],
      "metadata": {
        "colab": {
          "base_uri": "https://localhost:8080/"
        },
        "id": "Ld1Za4Nuh6MU",
        "outputId": "f3bd18ae-8bca-4446-e841-bd5de95f5e47"
      },
      "execution_count": 5,
      "outputs": [
        {
          "output_type": "stream",
          "name": "stdout",
          "text": [
            "Solving with SCIP 8.0.4 [LP solver: Glop 9.8]\n",
            "Total packed value: 395.0\n",
            "Bin 0\n",
            "Item 4 weight: 36 value: 35\n",
            "Item 9 weight: 24 value: 35\n",
            "Item 14 weight: 36 value: 25\n",
            "Packed bin weight: 96\n",
            "Packed bin value: 95\n",
            "\n",
            "Bin 1\n",
            "Item 1 weight: 30 value: 30\n",
            "Item 8 weight: 36 value: 30\n",
            "Item 10 weight: 30 value: 45\n",
            "Packed bin weight: 96\n",
            "Packed bin value: 105\n",
            "\n",
            "Bin 2\n",
            "Item 2 weight: 42 value: 25\n",
            "Item 5 weight: 48 value: 30\n",
            "Packed bin weight: 90\n",
            "Packed bin value: 55\n",
            "\n",
            "Bin 3\n",
            "Item 7 weight: 42 value: 40\n",
            "Item 13 weight: 36 value: 30\n",
            "Packed bin weight: 78\n",
            "Packed bin value: 70\n",
            "\n",
            "Bin 4\n",
            "Item 3 weight: 36 value: 50\n",
            "Item 12 weight: 42 value: 20\n",
            "Packed bin weight: 78\n",
            "Packed bin value: 70\n",
            "\n",
            "Total packed weight: 438\n"
          ]
        }
      ]
    },
    {
      "cell_type": "markdown",
      "source": [
        "### CP-SAT solver"
      ],
      "metadata": {
        "id": "-1vm4rS9i4nZ"
      }
    },
    {
      "cell_type": "code",
      "source": [
        "from ortools.sat.python import cp_model"
      ],
      "metadata": {
        "id": "OkBMZpejiVKZ"
      },
      "execution_count": 6,
      "outputs": []
    },
    {
      "cell_type": "code",
      "source": [
        "\"\"\"Solves a multiple knapsack problem using the CP-SAT solver.\"\"\"\n",
        "from ortools.sat.python import cp_model\n",
        "\n",
        "\n",
        "def main():\n",
        "    data = {}\n",
        "    data[\"weights\"] = [48, 30, 42, 36, 36, 48, 42, 42, 36, 24, 30, 30, 42, 36, 36]\n",
        "    data[\"values\"] = [10, 30, 25, 50, 35, 30, 15, 40, 30, 35, 45, 10, 20, 30, 25]\n",
        "    assert len(data[\"weights\"]) == len(data[\"values\"])\n",
        "    data[\"num_items\"] = len(data[\"weights\"])\n",
        "    data[\"all_items\"] = range(data[\"num_items\"])\n",
        "\n",
        "    data[\"bin_capacities\"] = [100, 100, 100, 100, 100]\n",
        "    data[\"num_bins\"] = len(data[\"bin_capacities\"])\n",
        "    data[\"all_bins\"] = range(data[\"num_bins\"])\n",
        "\n",
        "    model = cp_model.CpModel()\n",
        "\n",
        "    # Variables.\n",
        "    # x[i, b] = 1 if item i is packed in bin b.\n",
        "    x = {}\n",
        "    for i in data[\"all_items\"]:\n",
        "        for b in data[\"all_bins\"]:\n",
        "            x[i, b] = model.NewBoolVar(f\"x_{i}_{b}\")\n",
        "\n",
        "    # Constraints.\n",
        "    # Each item is assigned to at most one bin.\n",
        "    for i in data[\"all_items\"]:\n",
        "        model.AddAtMostOne(x[i, b] for b in data[\"all_bins\"])\n",
        "\n",
        "    # The amount packed in each bin cannot exceed its capacity.\n",
        "    for b in data[\"all_bins\"]:\n",
        "        model.Add(\n",
        "            sum(x[i, b] * data[\"weights\"][i] for i in data[\"all_items\"])\n",
        "            <= data[\"bin_capacities\"][b]\n",
        "        )\n",
        "\n",
        "    # Objective.\n",
        "    # Maximize total value of packed items.\n",
        "    objective = []\n",
        "    for i in data[\"all_items\"]:\n",
        "        for b in data[\"all_bins\"]:\n",
        "            objective.append(cp_model.LinearExpr.Term(x[i, b], data[\"values\"][i]))\n",
        "    model.Maximize(cp_model.LinearExpr.Sum(objective))\n",
        "\n",
        "    solver = cp_model.CpSolver()\n",
        "    status = solver.Solve(model)\n",
        "\n",
        "    if status == cp_model.OPTIMAL:\n",
        "        print(f\"Total packed value: {solver.ObjectiveValue()}\")\n",
        "        total_weight = 0\n",
        "        for b in data[\"all_bins\"]:\n",
        "            print(f\"Bin {b}\")\n",
        "            bin_weight = 0\n",
        "            bin_value = 0\n",
        "            for i in data[\"all_items\"]:\n",
        "                if solver.Value(x[i, b]) > 0:\n",
        "                    print(\n",
        "                        f\"Item {i} weight: {data['weights'][i]} value: {data['values'][i]}\"\n",
        "                    )\n",
        "                    bin_weight += data[\"weights\"][i]\n",
        "                    bin_value += data[\"values\"][i]\n",
        "            print(f\"Packed bin weight: {bin_weight}\")\n",
        "            print(f\"Packed bin value: {bin_value}\\n\")\n",
        "            total_weight += bin_weight\n",
        "        print(f\"Total packed weight: {total_weight}\")\n",
        "    else:\n",
        "        print(\"The problem does not have an optimal solution.\")\n",
        "\n",
        "\n",
        "if __name__ == \"__main__\":\n",
        "    main()"
      ],
      "metadata": {
        "colab": {
          "base_uri": "https://localhost:8080/"
        },
        "id": "FSVbysZpijTQ",
        "outputId": "82e49761-1a9a-4967-a7cf-a091580426e6"
      },
      "execution_count": 7,
      "outputs": [
        {
          "output_type": "stream",
          "name": "stdout",
          "text": [
            "Total packed value: 395.0\n",
            "Bin 0\n",
            "Item 1 weight: 30 value: 30\n",
            "Item 8 weight: 36 value: 30\n",
            "Item 10 weight: 30 value: 45\n",
            "Packed bin weight: 96\n",
            "Packed bin value: 105\n",
            "\n",
            "Bin 1\n",
            "Item 5 weight: 48 value: 30\n",
            "Item 14 weight: 36 value: 25\n",
            "Packed bin weight: 84\n",
            "Packed bin value: 55\n",
            "\n",
            "Bin 2\n",
            "Item 3 weight: 36 value: 50\n",
            "Item 4 weight: 36 value: 35\n",
            "Item 9 weight: 24 value: 35\n",
            "Packed bin weight: 96\n",
            "Packed bin value: 120\n",
            "\n",
            "Bin 3\n",
            "Item 7 weight: 42 value: 40\n",
            "Item 12 weight: 42 value: 20\n",
            "Packed bin weight: 84\n",
            "Packed bin value: 60\n",
            "\n",
            "Bin 4\n",
            "Item 2 weight: 42 value: 25\n",
            "Item 13 weight: 36 value: 30\n",
            "Packed bin weight: 78\n",
            "Packed bin value: 55\n",
            "\n",
            "Total packed weight: 438\n"
          ]
        }
      ]
    }
  ]
}