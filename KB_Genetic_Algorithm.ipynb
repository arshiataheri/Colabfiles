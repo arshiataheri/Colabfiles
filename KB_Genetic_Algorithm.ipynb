{
  "nbformat": 4,
  "nbformat_minor": 0,
  "metadata": {
    "colab": {
      "provenance": [],
      "authorship_tag": "ABX9TyMRXnQkIryB8JYWgBbBFqLm"
    },
    "kernelspec": {
      "name": "python3",
      "display_name": "Python 3"
    },
    "language_info": {
      "name": "python"
    }
  },
  "cells": [
    {
      "cell_type": "markdown",
      "source": [
        "## Introduction"
      ],
      "metadata": {
        "id": "NQoZQ9JpjVYZ"
      }
    },
    {
      "cell_type": "code",
      "execution_count": 1,
      "metadata": {
        "id": "egp865V3gv3B"
      },
      "outputs": [],
      "source": [
        "import random\n",
        "\n",
        "POP_SIZE = 500\n",
        "MUT_RATE = 0.1\n",
        "TARGET = 'arshia taheri'\n",
        "GENES = ' abcdefghijklmnopqrstuvwxyz'"
      ]
    },
    {
      "cell_type": "code",
      "source": [
        "# This function returns initial population.\n",
        "\n",
        "def initialize_pop(TARGET):\n",
        "  population = list()\n",
        "  tar_len = len(TARGET)\n",
        "\n",
        "  for i in range(POP_SIZE):\n",
        "      temp = list()\n",
        "      for j in range(tar_len):\n",
        "          temp.append(random.choice(GENES))\n",
        "      population.append(temp)\n",
        "  return population"
      ],
      "metadata": {
        "id": "A-DgXNVdhJMa"
      },
      "execution_count": 7,
      "outputs": []
    },
    {
      "cell_type": "code",
      "source": [
        "# This function returns chromosomes along with their fitness level.\n",
        "\n",
        "def fitness_cal(TARGET, chromo_from_pop):\n",
        "  difference = 0\n",
        "  for tar_char, chromo_char in zip(TARGET, chromo_from_pop):\n",
        "      if tar_char != chromo_char:\n",
        "          difference+=1\n",
        "  return [chromo_from_pop, difference]"
      ],
      "metadata": {
        "id": "sFeHPC1_haHc"
      },
      "execution_count": 8,
      "outputs": []
    },
    {
      "cell_type": "code",
      "source": [
        "# This function returns top 50% population sorted according to fitness.\n",
        "\n",
        "def selection(population, TARGET):\n",
        "  sorted_chromo_pop = sorted(population, key= lambda x: x[1])\n",
        "  return sorted_chromo_pop[:int(0.5*POP_SIZE)]"
      ],
      "metadata": {
        "id": "KeJRi36rhaaU"
      },
      "execution_count": 9,
      "outputs": []
    },
    {
      "cell_type": "code",
      "source": [
        "# This function will return a list of offspring with a lenght equal to the length of initial population.\n",
        "\n",
        "def crossover(selected_chromo, CHROMO_LEN, population):\n",
        "  offspring_cross = []\n",
        "  for i in range(int(POP_SIZE)):\n",
        "    parent1 = random.choice(selected_chromo)\n",
        "    parent2 = random.choice(population[:int(POP_SIZE*50)])\n",
        "\n",
        "    p1 = parent1[0]\n",
        "    p2 = parent2[0]\n",
        "\n",
        "    crossover_point = random.randint(1, CHROMO_LEN-1)\n",
        "    child =  p1[:crossover_point] + p2[crossover_point:]\n",
        "    offspring_cross.extend([child])\n",
        "  return offspring_cross"
      ],
      "metadata": {
        "id": "AoqgSM8Ah5n_"
      },
      "execution_count": 10,
      "outputs": []
    },
    {
      "cell_type": "code",
      "source": [
        "# This function would return a mutated list of population.\n",
        "\n",
        "def mutate(offspring, MUT_RATE):\n",
        "  mutated_offspring = []\n",
        "\n",
        "  for arr in offspring:\n",
        "      for i in range(len(arr)):\n",
        "          if random.random() < MUT_RATE:\n",
        "              arr[i] = random.choice(GENES)\n",
        "      mutated_offspring.append(arr)\n",
        "  return mutated_offspring"
      ],
      "metadata": {
        "id": "2pkpMMaQh9R4"
      },
      "execution_count": 11,
      "outputs": []
    },
    {
      "cell_type": "code",
      "source": [
        "# This function will return the best chromosomes from our initial population and new gen.\n",
        "\n",
        "def replace(new_gen, population):\n",
        "  for _ in range(len(population)):\n",
        "      if population[_][1] > new_gen[_][1]:\n",
        "        population[_][0] = new_gen[_][0]\n",
        "        population[_][1] = new_gen[_][1]\n",
        "  return population"
      ],
      "metadata": {
        "id": "vtOBlISBiCHP"
      },
      "execution_count": 12,
      "outputs": []
    },
    {
      "cell_type": "code",
      "source": [
        "def main(POP_SIZE, MUT_RATE, TARGET, GENES):\n",
        "    # 1) initialize population\n",
        "    initial_population = initialize_pop(TARGET)\n",
        "    found = False\n",
        "    population = []\n",
        "    generation = 1\n",
        "\n",
        "    # 2) Calculating the fitness for the current population\n",
        "    for _ in range(len(initial_population)):\n",
        "        population.append(fitness_cal(TARGET, initial_population[_]))\n",
        "\n",
        "    # now population has 2 things, [chromosome, fitness]\n",
        "    # 3) now we loop until TARGET is found\n",
        "    while not found:\n",
        "\n",
        "      # 3.1) select best people from current population\n",
        "      selected = selection(population, TARGET)\n",
        "\n",
        "      # 3.2) mate parents to make new generation\n",
        "      population = sorted(population, key= lambda x:x[1])\n",
        "      crossovered = crossover(selected, len(TARGET), population)\n",
        "\n",
        "      # 3.3) mutating the childeren to diversfy the new generation\n",
        "      mutated = mutate(crossovered, MUT_RATE)\n",
        "\n",
        "      new_gen = []\n",
        "      for _ in mutated:\n",
        "          new_gen.append(fitness_cal(TARGET, _))\n",
        "\n",
        "      # 3.4) replacement of bad population with new generation\n",
        "      # we sort here first to compare the least fit population with the most fit new_gen\n",
        "\n",
        "      population = replace(new_gen, population)\n",
        "\n",
        "\n",
        "      if (population[0][1] == 0):\n",
        "        print('Target found')\n",
        "        print('String: ' + str(population[0][0]) + ' Generation: ' + str(generation) + ' Fitness: ' + str(population[0][1]))\n",
        "        break\n",
        "      print('String: ' + str(population[0][0]) + ' Generation: ' + str(generation) + ' Fitness: ' + str(population[0][1]))\n",
        "      generation+=1\n",
        "\n",
        "main(POP_SIZE, MUT_RATE, TARGET, GENES)"
      ],
      "metadata": {
        "colab": {
          "base_uri": "https://localhost:8080/"
        },
        "id": "IpRjimIKiCmg",
        "outputId": "c12bb6f7-05dd-4d98-cd43-3d8fe61c7005"
      },
      "execution_count": 13,
      "outputs": [
        {
          "output_type": "stream",
          "name": "stdout",
          "text": [
            "String: ['r', 'r', 'd', 's', 'm', 'w', 'p', 't', 'r', 'u', 'e', 'z', 'n'] Generation: 1 Fitness: 10\n",
            "String: ['r', 'r', 'd', 's', 'm', 'w', 'p', 't', 'r', 'u', 'e', 'z', 'n'] Generation: 2 Fitness: 10\n",
            "String: ['a', 'z', 's', 'i', 'i', 'c', 'b', ' ', 'a', 'e', 'e', 'a', 'o'] Generation: 3 Fitness: 8\n",
            "String: ['a', 'z', 's', 'i', 'i', 'c', 'b', ' ', 'a', 'e', 'e', 'a', 'o'] Generation: 4 Fitness: 8\n",
            "String: ['a', 'z', 's', 'i', 'i', 'c', 'b', ' ', 'a', 'e', 'e', 'a', 'o'] Generation: 5 Fitness: 8\n",
            "String: ['x', 'r', 's', 'a', 'o', 'a', 'e', 't', 'a', 'z', 'e', 'a', 'r'] Generation: 6 Fitness: 7\n",
            "String: ['a', 'r', 's', 'w', 'i', 'a', 'o', 'a', 'n', 'h', 'd', 't', 'i'] Generation: 7 Fitness: 6\n",
            "String: ['a', 'r', 's', 'w', 'i', 'a', 'o', 'a', 'n', 'h', 'd', 't', 'i'] Generation: 8 Fitness: 6\n",
            "String: ['a', 'r', 's', 'w', 'i', 'a', 'o', 'a', 'n', 'h', 'd', 't', 'i'] Generation: 9 Fitness: 6\n",
            "String: ['a', 'r', 'k', 'h', 'n', 'g', 's', 't', 'a', 'z', 'e', 'r', 'i'] Generation: 10 Fitness: 5\n",
            "String: ['a', 'r', 's', 'h', 'i', 'r', 'p', 't', 'a', 'v', 'e', 'y', 'i'] Generation: 11 Fitness: 4\n",
            "String: ['a', 'r', 's', 'h', 'i', 'r', 'p', 't', 'a', 'v', 'e', 'y', 'i'] Generation: 12 Fitness: 4\n",
            "String: ['a', 'r', 's', 'h', 'i', 'r', 'p', 't', 'a', 'v', 'e', 'y', 'i'] Generation: 13 Fitness: 4\n",
            "String: ['a', 'r', 's', 'h', 'i', 'a', 'o', 't', 'a', 'e', 'e', 'r', 'k'] Generation: 14 Fitness: 3\n",
            "String: ['a', 'r', 's', 'h', 'i', 'a', 'h', 't', 'a', 'z', 'e', 'r', 'i'] Generation: 15 Fitness: 2\n",
            "String: ['a', 'r', 's', 'h', 'i', 'a', 'h', 't', 'a', 'z', 'e', 'r', 'i'] Generation: 16 Fitness: 2\n",
            "String: ['a', 'r', 's', 'h', 'i', 'a', 'h', 't', 'a', 'z', 'e', 'r', 'i'] Generation: 17 Fitness: 2\n",
            "String: ['a', 'r', 's', 'h', 'i', 'a', ' ', 't', 'a', 'h', 'c', 'r', 'i'] Generation: 18 Fitness: 1\n",
            "String: ['a', 'r', 's', 'h', 'i', 'a', ' ', 't', 'a', 'h', 'c', 'r', 'i'] Generation: 19 Fitness: 1\n",
            "String: ['a', 'r', 's', 'h', 'i', 'a', ' ', 't', 'a', 'h', 'c', 'r', 'i'] Generation: 20 Fitness: 1\n",
            "Target found\n",
            "String: ['a', 'r', 's', 'h', 'i', 'a', ' ', 't', 'a', 'h', 'e', 'r', 'i'] Generation: 21 Fitness: 0\n"
          ]
        }
      ]
    },
    {
      "cell_type": "markdown",
      "source": [
        "## Second example  - Numerical"
      ],
      "metadata": {
        "id": "QUxu4EVqmsR-"
      }
    },
    {
      "cell_type": "markdown",
      "source": [
        "![1_plKxNWoJ8u19UplCbeN9SQ.webp](data:image/webp;base64,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)"
      ],
      "metadata": {
        "id": "nEhSaNSQxUFp"
      }
    },
    {
      "cell_type": "code",
      "source": [
        "# Inputs of the equation.\n",
        "equation_inputs = [4,-2,3.5,5,-11,-4.7]\n",
        " # Number of the weights we are looking to optimize.\n",
        "num_weights = 6"
      ],
      "metadata": {
        "id": "IHRhZEpgms_D"
      },
      "execution_count": 68,
      "outputs": []
    },
    {
      "cell_type": "code",
      "source": [
        "import numpy\n",
        "sol_per_pop = 8\n",
        "# Defining the population size.\n",
        "\n",
        "pop_size = (sol_per_pop,num_weights) # The population will have sol_per_pop chromosome where each chromosome has num_weights genes.\n",
        "\n",
        "#Creating the initial population.\n",
        "\n",
        "new_population = numpy.random.uniform(low=-4.0, high=4.0, size=pop_size)\n",
        "new_population"
      ],
      "metadata": {
        "colab": {
          "base_uri": "https://localhost:8080/"
        },
        "id": "upufNHGpm3oj",
        "outputId": "a4261246-1a96-46fa-9634-631d70044bd7"
      },
      "execution_count": 69,
      "outputs": [
        {
          "output_type": "execute_result",
          "data": {
            "text/plain": [
              "array([[ 1.61944883,  0.4801562 , -1.070377  , -1.85068499, -3.64341971,\n",
              "         3.22385309],\n",
              "       [-0.47113573, -0.59667102,  2.46393081,  0.98337455,  3.83859808,\n",
              "        -0.10442361],\n",
              "       [-2.88508491,  1.5470557 , -3.92206941,  0.16424094, -2.93298005,\n",
              "         1.62668208],\n",
              "       [-3.58233734,  2.19652337,  2.17217456,  0.07776555,  2.47467581,\n",
              "        -0.09956807],\n",
              "       [ 1.67291294, -2.46087723,  2.52188469,  1.91151505,  0.57210084,\n",
              "         2.50150315],\n",
              "       [ 3.67677965, -2.84702019, -1.08268541, -1.79735716, -1.07594639,\n",
              "         3.35607495],\n",
              "       [-3.11105331, -2.4624049 ,  0.07562342,  1.52434469,  2.37088177,\n",
              "        -3.86791555],\n",
              "       [-1.92144096,  1.10830193,  0.4136118 ,  1.16113632,  2.52355004,\n",
              "         1.79507279]])"
            ]
          },
          "metadata": {},
          "execution_count": 69
        }
      ]
    },
    {
      "cell_type": "code",
      "source": [
        "import numpy\n",
        "\n",
        "def cal_pop_fitness(equation_inputs, pop):\n",
        "    # Calculating the fitness value of each solution in the current population.\n",
        "    # The fitness function calulates the sum of products between each input and its corresponding weight.\n",
        "    fitness = numpy.sum(pop*equation_inputs, axis=1)\n",
        "    return fitness\n",
        "\n",
        "def select_mating_pool(pop, fitness, num_parents):\n",
        "    # Selecting the best individuals in the current generation as parents for producing the offspring of the next generation.\n",
        "    parents = numpy.empty((num_parents, pop.shape[1]))\n",
        "    for parent_num in range(num_parents):\n",
        "        max_fitness_idx = numpy.where(fitness == numpy.max(fitness))\n",
        "        max_fitness_idx = max_fitness_idx[0][0]\n",
        "        parents[parent_num, :] = pop[max_fitness_idx, :]\n",
        "        fitness[max_fitness_idx] = -99999999999\n",
        "    return parents\n",
        "\n",
        "def crossover(parents, offspring_size):\n",
        "    offspring = numpy.empty(offspring_size)\n",
        "    # The point at which crossover takes place between two parents. Usually, it is at the center.\n",
        "    crossover_point = numpy.uint8(offspring_size[1]/2)\n",
        "\n",
        "    for k in range(offspring_size[0]):\n",
        "        # Index of the first parent to mate.\n",
        "        parent1_idx = k%parents.shape[0]\n",
        "        # Index of the second parent to mate.\n",
        "        parent2_idx = (k+1)%parents.shape[0]\n",
        "        # The new offspring will have its first half of its genes taken from the first parent.\n",
        "        offspring[k, 0:crossover_point] = parents[parent1_idx, 0:crossover_point]\n",
        "        # The new offspring will have its second half of its genes taken from the second parent.\n",
        "        offspring[k, crossover_point:] = parents[parent2_idx, crossover_point:]\n",
        "    return offspring\n",
        "\n",
        "def mutation(offspring_crossover, num_mutations=1):\n",
        "    mutations_counter = numpy.uint8(offspring_crossover.shape[1] / num_mutations)\n",
        "    # Mutation changes a number of genes as defined by the num_mutations argument. The changes are random.\n",
        "    for idx in range(offspring_crossover.shape[0]):\n",
        "        gene_idx = mutations_counter - 1\n",
        "        for mutation_num in range(num_mutations):\n",
        "            # The random value to be added to the gene.\n",
        "            random_value = numpy.random.uniform(-1.0, 1.0, 1)\n",
        "            offspring_crossover[idx, gene_idx] = offspring_crossover[idx, gene_idx] + random_value\n",
        "            gene_idx = gene_idx + mutations_counter\n",
        "    return offspring_crossover"
      ],
      "metadata": {
        "id": "0XZWujAIoCS-"
      },
      "execution_count": 70,
      "outputs": []
    },
    {
      "cell_type": "markdown",
      "source": [
        "Removed mutations_counter variable and its usage. Instead, we directly randomly select a gene index for mutation.\n",
        "Removed the outer loop that iterated num_mutations times. Instead, we use a nested loop to iterate over each offspring (idx) and perform mutations inside.\n",
        "Corrected the way random_value is generated."
      ],
      "metadata": {
        "id": "efQci50RrI4c"
      }
    },
    {
      "cell_type": "code",
      "source": [
        "def mutation(offspring_crossover, num_mutations=1):\n",
        "    mutations_counter = numpy.uint8(offspring_crossover.shape[1] / num_mutations)\n",
        "    # Mutation changes a number of genes as defined by the num_mutations argument. The changes are random.\n",
        "    for idx in range(offspring_crossover.shape[0]):\n",
        "        for _ in range(num_mutations):  # Iterate over the number of mutations\n",
        "            gene_idx = numpy.random.randint(0, offspring_crossover.shape[1])  # Randomly select gene index\n",
        "            # The random value to be added to the gene.\n",
        "            random_value = numpy.random.uniform(-1.0, 1.0)\n",
        "            offspring_crossover[idx, gene_idx] += random_value\n",
        "    return offspring_crossover\n"
      ],
      "metadata": {
        "id": "8hSCl6VrrAGA"
      },
      "execution_count": 65,
      "outputs": []
    },
    {
      "cell_type": "code",
      "source": [
        "num_generations = 10\n",
        "for generation in range(num_generations):\n",
        "    print(\"Generation : \", generation)\n",
        "    # Measing the fitness of each chromosome in the population.\n",
        "    fitness = cal_pop_fitness(equation_inputs, new_population)\n",
        "\n",
        "    # Selecting the best parents in the population for mating.\n",
        "    parents = select_mating_pool(new_population, fitness,\n",
        "                                      num_parents_mating)\n",
        "\n",
        "    # Generating next generation using crossover.\n",
        "    offspring_crossover = crossover(parents,\n",
        "                                       offspring_size=(pop_size[0]-parents.shape[0], num_weights))\n",
        "\n",
        "    # Adding some variations to the offsrping using mutation.\n",
        "    offspring_mutation = mutation(offspring_crossover)\n",
        "\n",
        "    # Creating the new population based on the parents and offspring.\n",
        "    new_population[0:parents.shape[0], :] = parents\n",
        "    new_population[parents.shape[0]:, :] = offspring_mutation\n",
        "\n",
        "    # The best result in the current iteration.\n",
        "    print(\"Best result : \", numpy.max(numpy.sum(new_population*equation_inputs, axis=1)))\n",
        "\n",
        "# Getting the best solution after iterating finishing all generations.\n",
        "#At first, the fitness is calculated for each solution in the final generation.\n",
        "fitness = cal_pop_fitness(equation_inputs, new_population)\n",
        "# Then return the index of that solution corresponding to the best fitness.\n",
        "best_match_idx = numpy.where(fitness == numpy.max(fitness))\n",
        "\n",
        "print(\"Best solution : \", new_population[best_match_idx, :])\n",
        "print(\"Best solution fitness : \", fitness[best_match_idx])"
      ],
      "metadata": {
        "colab": {
          "base_uri": "https://localhost:8080/"
        },
        "id": "J4DnQRf7pKhW",
        "outputId": "df90b9a3-15fc-4761-d7d2-9f5e723cf9b7"
      },
      "execution_count": 73,
      "outputs": [
        {
          "output_type": "stream",
          "name": "stdout",
          "text": [
            "Generation :  0\n",
            "Best result :  70.59142090649905\n",
            "Generation :  1\n",
            "Best result :  71.42857706309779\n",
            "Generation :  2\n",
            "Best result :  71.42857706309779\n",
            "Generation :  3\n",
            "Best result :  75.167061653187\n",
            "Generation :  4\n",
            "Best result :  75.167061653187\n",
            "Generation :  5\n",
            "Best result :  78.02479104008734\n",
            "Generation :  6\n",
            "Best result :  78.02479104008734\n",
            "Generation :  7\n",
            "Best result :  80.87872606193437\n",
            "Generation :  8\n",
            "Best result :  81.34223440118615\n",
            "Generation :  9\n",
            "Best result :  85.50511884700167\n",
            "Best solution :  [[[ 1.67291294 -2.46087723  2.52188469  0.16424094 -2.93298005\n",
            "   -6.80449595]]]\n",
            "Best solution fitness :  [85.50511885]\n"
          ]
        },
        {
          "output_type": "stream",
          "name": "stderr",
          "text": [
            "<ipython-input-70-74ded5d0413a>:43: DeprecationWarning: Conversion of an array with ndim > 0 to a scalar is deprecated, and will error in future. Ensure you extract a single element from your array before performing this operation. (Deprecated NumPy 1.25.)\n",
            "  offspring_crossover[idx, gene_idx] = offspring_crossover[idx, gene_idx] + random_value\n"
          ]
        }
      ]
    },
    {
      "cell_type": "markdown",
      "source": [
        "[Ref](https://https://towardsdatascience.com/genetic-algorithm-implementation-in-python-5ab67bb124a6)"
      ],
      "metadata": {
        "id": "ntRs023NxsQ0"
      }
    },
    {
      "cell_type": "code",
      "source": [],
      "metadata": {
        "id": "Gz-PWB02xuig"
      },
      "execution_count": null,
      "outputs": []
    }
  ]
}