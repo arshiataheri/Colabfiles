{
  "nbformat": 4,
  "nbformat_minor": 0,
  "metadata": {
    "colab": {
      "provenance": [],
      "authorship_tag": "ABX9TyPJ8CPtuVcXWx6KBQS6VjLx"
    },
    "kernelspec": {
      "name": "python3",
      "display_name": "Python 3"
    },
    "language_info": {
      "name": "python"
    }
  },
  "cells": [
    {
      "cell_type": "code",
      "execution_count": 1,
      "metadata": {
        "id": "egp865V3gv3B"
      },
      "outputs": [],
      "source": [
        "import random\n",
        "\n",
        "POP_SIZE = 500\n",
        "MUT_RATE = 0.1\n",
        "TARGET = 'arshia taheri'\n",
        "GENES = ' abcdefghijklmnopqrstuvwxyz'"
      ]
    },
    {
      "cell_type": "code",
      "source": [
        "# This function returns initial population.\n",
        "\n",
        "def initialize_pop(TARGET):\n",
        "  population = list()\n",
        "  tar_len = len(TARGET)\n",
        "\n",
        "  for i in range(POP_SIZE):\n",
        "      temp = list()\n",
        "      for j in range(tar_len):\n",
        "          temp.append(random.choice(GENES))\n",
        "      population.append(temp)\n",
        "  return population"
      ],
      "metadata": {
        "id": "A-DgXNVdhJMa"
      },
      "execution_count": 7,
      "outputs": []
    },
    {
      "cell_type": "code",
      "source": [
        "# This function returns chromosomes along with their fitness level.\n",
        "\n",
        "def fitness_cal(TARGET, chromo_from_pop):\n",
        "  difference = 0\n",
        "  for tar_char, chromo_char in zip(TARGET, chromo_from_pop):\n",
        "      if tar_char != chromo_char:\n",
        "          difference+=1\n",
        "  return [chromo_from_pop, difference]"
      ],
      "metadata": {
        "id": "sFeHPC1_haHc"
      },
      "execution_count": 8,
      "outputs": []
    },
    {
      "cell_type": "code",
      "source": [
        "# This function returns top 50% population sorted according to fitness.\n",
        "\n",
        "def selection(population, TARGET):\n",
        "  sorted_chromo_pop = sorted(population, key= lambda x: x[1])\n",
        "  return sorted_chromo_pop[:int(0.5*POP_SIZE)]"
      ],
      "metadata": {
        "id": "KeJRi36rhaaU"
      },
      "execution_count": 9,
      "outputs": []
    },
    {
      "cell_type": "code",
      "source": [
        "# This function will return a list of offspring with a lenght equal to the length of initial population.\n",
        "\n",
        "def crossover(selected_chromo, CHROMO_LEN, population):\n",
        "  offspring_cross = []\n",
        "  for i in range(int(POP_SIZE)):\n",
        "    parent1 = random.choice(selected_chromo)\n",
        "    parent2 = random.choice(population[:int(POP_SIZE*50)])\n",
        "\n",
        "    p1 = parent1[0]\n",
        "    p2 = parent2[0]\n",
        "\n",
        "    crossover_point = random.randint(1, CHROMO_LEN-1)\n",
        "    child =  p1[:crossover_point] + p2[crossover_point:]\n",
        "    offspring_cross.extend([child])\n",
        "  return offspring_cross"
      ],
      "metadata": {
        "id": "AoqgSM8Ah5n_"
      },
      "execution_count": 10,
      "outputs": []
    },
    {
      "cell_type": "code",
      "source": [
        "# This function would return a mutated list of population.\n",
        "\n",
        "def mutate(offspring, MUT_RATE):\n",
        "  mutated_offspring = []\n",
        "\n",
        "  for arr in offspring:\n",
        "      for i in range(len(arr)):\n",
        "          if random.random() < MUT_RATE:\n",
        "              arr[i] = random.choice(GENES)\n",
        "      mutated_offspring.append(arr)\n",
        "  return mutated_offspring"
      ],
      "metadata": {
        "id": "2pkpMMaQh9R4"
      },
      "execution_count": 11,
      "outputs": []
    },
    {
      "cell_type": "code",
      "source": [
        "# This function will return the best chromosomes from our initial population and new gen.\n",
        "\n",
        "def replace(new_gen, population):\n",
        "  for _ in range(len(population)):\n",
        "      if population[_][1] > new_gen[_][1]:\n",
        "        population[_][0] = new_gen[_][0]\n",
        "        population[_][1] = new_gen[_][1]\n",
        "  return population"
      ],
      "metadata": {
        "id": "vtOBlISBiCHP"
      },
      "execution_count": 12,
      "outputs": []
    },
    {
      "cell_type": "code",
      "source": [
        "def main(POP_SIZE, MUT_RATE, TARGET, GENES):\n",
        "    # 1) initialize population\n",
        "    initial_population = initialize_pop(TARGET)\n",
        "    found = False\n",
        "    population = []\n",
        "    generation = 1\n",
        "\n",
        "    # 2) Calculating the fitness for the current population\n",
        "    for _ in range(len(initial_population)):\n",
        "        population.append(fitness_cal(TARGET, initial_population[_]))\n",
        "\n",
        "    # now population has 2 things, [chromosome, fitness]\n",
        "    # 3) now we loop until TARGET is found\n",
        "    while not found:\n",
        "\n",
        "      # 3.1) select best people from current population\n",
        "      selected = selection(population, TARGET)\n",
        "\n",
        "      # 3.2) mate parents to make new generation\n",
        "      population = sorted(population, key= lambda x:x[1])\n",
        "      crossovered = crossover(selected, len(TARGET), population)\n",
        "\n",
        "      # 3.3) mutating the childeren to diversfy the new generation\n",
        "      mutated = mutate(crossovered, MUT_RATE)\n",
        "\n",
        "      new_gen = []\n",
        "      for _ in mutated:\n",
        "          new_gen.append(fitness_cal(TARGET, _))\n",
        "\n",
        "      # 3.4) replacement of bad population with new generation\n",
        "      # we sort here first to compare the least fit population with the most fit new_gen\n",
        "\n",
        "      population = replace(new_gen, population)\n",
        "\n",
        "\n",
        "      if (population[0][1] == 0):\n",
        "        print('Target found')\n",
        "        print('String: ' + str(population[0][0]) + ' Generation: ' + str(generation) + ' Fitness: ' + str(population[0][1]))\n",
        "        break\n",
        "      print('String: ' + str(population[0][0]) + ' Generation: ' + str(generation) + ' Fitness: ' + str(population[0][1]))\n",
        "      generation+=1\n",
        "\n",
        "main(POP_SIZE, MUT_RATE, TARGET, GENES)"
      ],
      "metadata": {
        "colab": {
          "base_uri": "https://localhost:8080/"
        },
        "id": "IpRjimIKiCmg",
        "outputId": "c12bb6f7-05dd-4d98-cd43-3d8fe61c7005"
      },
      "execution_count": 13,
      "outputs": [
        {
          "output_type": "stream",
          "name": "stdout",
          "text": [
            "String: ['r', 'r', 'd', 's', 'm', 'w', 'p', 't', 'r', 'u', 'e', 'z', 'n'] Generation: 1 Fitness: 10\n",
            "String: ['r', 'r', 'd', 's', 'm', 'w', 'p', 't', 'r', 'u', 'e', 'z', 'n'] Generation: 2 Fitness: 10\n",
            "String: ['a', 'z', 's', 'i', 'i', 'c', 'b', ' ', 'a', 'e', 'e', 'a', 'o'] Generation: 3 Fitness: 8\n",
            "String: ['a', 'z', 's', 'i', 'i', 'c', 'b', ' ', 'a', 'e', 'e', 'a', 'o'] Generation: 4 Fitness: 8\n",
            "String: ['a', 'z', 's', 'i', 'i', 'c', 'b', ' ', 'a', 'e', 'e', 'a', 'o'] Generation: 5 Fitness: 8\n",
            "String: ['x', 'r', 's', 'a', 'o', 'a', 'e', 't', 'a', 'z', 'e', 'a', 'r'] Generation: 6 Fitness: 7\n",
            "String: ['a', 'r', 's', 'w', 'i', 'a', 'o', 'a', 'n', 'h', 'd', 't', 'i'] Generation: 7 Fitness: 6\n",
            "String: ['a', 'r', 's', 'w', 'i', 'a', 'o', 'a', 'n', 'h', 'd', 't', 'i'] Generation: 8 Fitness: 6\n",
            "String: ['a', 'r', 's', 'w', 'i', 'a', 'o', 'a', 'n', 'h', 'd', 't', 'i'] Generation: 9 Fitness: 6\n",
            "String: ['a', 'r', 'k', 'h', 'n', 'g', 's', 't', 'a', 'z', 'e', 'r', 'i'] Generation: 10 Fitness: 5\n",
            "String: ['a', 'r', 's', 'h', 'i', 'r', 'p', 't', 'a', 'v', 'e', 'y', 'i'] Generation: 11 Fitness: 4\n",
            "String: ['a', 'r', 's', 'h', 'i', 'r', 'p', 't', 'a', 'v', 'e', 'y', 'i'] Generation: 12 Fitness: 4\n",
            "String: ['a', 'r', 's', 'h', 'i', 'r', 'p', 't', 'a', 'v', 'e', 'y', 'i'] Generation: 13 Fitness: 4\n",
            "String: ['a', 'r', 's', 'h', 'i', 'a', 'o', 't', 'a', 'e', 'e', 'r', 'k'] Generation: 14 Fitness: 3\n",
            "String: ['a', 'r', 's', 'h', 'i', 'a', 'h', 't', 'a', 'z', 'e', 'r', 'i'] Generation: 15 Fitness: 2\n",
            "String: ['a', 'r', 's', 'h', 'i', 'a', 'h', 't', 'a', 'z', 'e', 'r', 'i'] Generation: 16 Fitness: 2\n",
            "String: ['a', 'r', 's', 'h', 'i', 'a', 'h', 't', 'a', 'z', 'e', 'r', 'i'] Generation: 17 Fitness: 2\n",
            "String: ['a', 'r', 's', 'h', 'i', 'a', ' ', 't', 'a', 'h', 'c', 'r', 'i'] Generation: 18 Fitness: 1\n",
            "String: ['a', 'r', 's', 'h', 'i', 'a', ' ', 't', 'a', 'h', 'c', 'r', 'i'] Generation: 19 Fitness: 1\n",
            "String: ['a', 'r', 's', 'h', 'i', 'a', ' ', 't', 'a', 'h', 'c', 'r', 'i'] Generation: 20 Fitness: 1\n",
            "Target found\n",
            "String: ['a', 'r', 's', 'h', 'i', 'a', ' ', 't', 'a', 'h', 'e', 'r', 'i'] Generation: 21 Fitness: 0\n"
          ]
        }
      ]
    }
  ]
}