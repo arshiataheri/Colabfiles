{
  "nbformat": 4,
  "nbformat_minor": 0,
  "metadata": {
    "colab": {
      "provenance": [],
      "authorship_tag": "ABX9TyML/mzt9qlr6LAWVHF9KYou"
    },
    "kernelspec": {
      "name": "python3",
      "display_name": "Python 3"
    },
    "language_info": {
      "name": "python"
    }
  },
  "cells": [
    {
      "cell_type": "markdown",
      "source": [
        "## Numerizer"
      ],
      "metadata": {
        "id": "SSUyCZDpu9FO"
      }
    },
    {
      "cell_type": "code",
      "execution_count": 4,
      "metadata": {
        "colab": {
          "base_uri": "https://localhost:8080/"
        },
        "id": "km6r7f4BuRRG",
        "outputId": "08ace7bb-0904-4b88-9f41-cb86ae84251d"
      },
      "outputs": [
        {
          "output_type": "stream",
          "name": "stdout",
          "text": [
            "Collecting numerizer\n",
            "  Using cached numerizer-0.2.3.tar.gz (7.0 kB)\n",
            "  Preparing metadata (setup.py) ... \u001b[?25l\u001b[?25hdone\n",
            "Building wheels for collected packages: numerizer\n",
            "  Building wheel for numerizer (setup.py) ... \u001b[?25l\u001b[?25hdone\n",
            "  Created wheel for numerizer: filename=numerizer-0.2.3-py2.py3-none-any.whl size=7282 sha256=f511f1beb37a74415940e9bb90e170cc4d206eed42b9b612184a9545d782385a\n",
            "  Stored in directory: /root/.cache/pip/wheels/a6/f5/41/061ebb390bcaff59039c490836f12f0ee8d29ca5d3e69f829c\n",
            "Successfully built numerizer\n",
            "Installing collected packages: numerizer\n",
            "Successfully installed numerizer-0.2.3\n"
          ]
        }
      ],
      "source": [
        "! pip install numerizer"
      ]
    },
    {
      "cell_type": "code",
      "source": [
        "from numerizer import numerize"
      ],
      "metadata": {
        "id": "RoMkTvj0uXlf"
      },
      "execution_count": 5,
      "outputs": []
    },
    {
      "cell_type": "code",
      "source": [
        "numerize('twenty one thousand four hundred and seventy three')"
      ],
      "metadata": {
        "colab": {
          "base_uri": "https://localhost:8080/",
          "height": 35
        },
        "id": "mBCtvZ48uZgX",
        "outputId": "feec9b9b-1f6e-4b33-b21e-13b1a0d72980"
      },
      "execution_count": 6,
      "outputs": [
        {
          "output_type": "execute_result",
          "data": {
            "text/plain": [
              "'21473'"
            ],
            "application/vnd.google.colaboratory.intrinsic+json": {
              "type": "string"
            }
          },
          "metadata": {},
          "execution_count": 6
        }
      ]
    },
    {
      "cell_type": "code",
      "source": [
        "numerize('platform nine and three quarters')"
      ],
      "metadata": {
        "colab": {
          "base_uri": "https://localhost:8080/",
          "height": 35
        },
        "id": "OPHo1SV2ug-v",
        "outputId": "36a3a004-e52f-41f8-8854-280faa00bb73"
      },
      "execution_count": 7,
      "outputs": [
        {
          "output_type": "execute_result",
          "data": {
            "text/plain": [
              "'platform 9.75'"
            ],
            "application/vnd.google.colaboratory.intrinsic+json": {
              "type": "string"
            }
          },
          "metadata": {},
          "execution_count": 7
        }
      ]
    },
    {
      "cell_type": "markdown",
      "source": [
        "## CodeCarbon"
      ],
      "metadata": {
        "id": "jTF5JTLfwTYK"
      }
    },
    {
      "cell_type": "code",
      "source": [
        "! pip install codecarbon"
      ],
      "metadata": {
        "colab": {
          "base_uri": "https://localhost:8080/"
        },
        "id": "LOQDWh5OvgEB",
        "outputId": "f3eb72c6-2f2f-4159-a7b8-c47a0226cafd"
      },
      "execution_count": 8,
      "outputs": [
        {
          "output_type": "stream",
          "name": "stdout",
          "text": [
            "Collecting codecarbon\n",
            "  Downloading codecarbon-2.3.3-py3-none-any.whl (181 kB)\n",
            "\u001b[2K     \u001b[90m━━━━━━━━━━━━━━━━━━━━━━━━━━━━━━━━━━━━━━━━\u001b[0m \u001b[32m181.6/181.6 kB\u001b[0m \u001b[31m2.6 MB/s\u001b[0m eta \u001b[36m0:00:00\u001b[0m\n",
            "\u001b[?25hCollecting arrow (from codecarbon)\n",
            "  Downloading arrow-1.3.0-py3-none-any.whl (66 kB)\n",
            "\u001b[2K     \u001b[90m━━━━━━━━━━━━━━━━━━━━━━━━━━━━━━━━━━━━━━━━\u001b[0m \u001b[32m66.4/66.4 kB\u001b[0m \u001b[31m6.2 MB/s\u001b[0m eta \u001b[36m0:00:00\u001b[0m\n",
            "\u001b[?25hRequirement already satisfied: pandas in /usr/local/lib/python3.10/dist-packages (from codecarbon) (1.5.3)\n",
            "Collecting pynvml (from codecarbon)\n",
            "  Downloading pynvml-11.5.0-py3-none-any.whl (53 kB)\n",
            "\u001b[2K     \u001b[90m━━━━━━━━━━━━━━━━━━━━━━━━━━━━━━━━━━━━━━━━\u001b[0m \u001b[32m53.1/53.1 kB\u001b[0m \u001b[31m5.5 MB/s\u001b[0m eta \u001b[36m0:00:00\u001b[0m\n",
            "\u001b[?25hRequirement already satisfied: requests in /usr/local/lib/python3.10/dist-packages (from codecarbon) (2.31.0)\n",
            "Requirement already satisfied: psutil in /usr/local/lib/python3.10/dist-packages (from codecarbon) (5.9.5)\n",
            "Requirement already satisfied: py-cpuinfo in /usr/local/lib/python3.10/dist-packages (from codecarbon) (9.0.0)\n",
            "Collecting rapidfuzz (from codecarbon)\n",
            "  Downloading rapidfuzz-3.6.1-cp310-cp310-manylinux_2_17_x86_64.manylinux2014_x86_64.whl (3.4 MB)\n",
            "\u001b[2K     \u001b[90m━━━━━━━━━━━━━━━━━━━━━━━━━━━━━━━━━━━━━━━━\u001b[0m \u001b[32m3.4/3.4 MB\u001b[0m \u001b[31m10.5 MB/s\u001b[0m eta \u001b[36m0:00:00\u001b[0m\n",
            "\u001b[?25hRequirement already satisfied: click in /usr/local/lib/python3.10/dist-packages (from codecarbon) (8.1.7)\n",
            "Requirement already satisfied: prometheus-client in /usr/local/lib/python3.10/dist-packages (from codecarbon) (0.19.0)\n",
            "Requirement already satisfied: python-dateutil>=2.7.0 in /usr/local/lib/python3.10/dist-packages (from arrow->codecarbon) (2.8.2)\n",
            "Collecting types-python-dateutil>=2.8.10 (from arrow->codecarbon)\n",
            "  Downloading types_python_dateutil-2.8.19.20240106-py3-none-any.whl (9.7 kB)\n",
            "Requirement already satisfied: pytz>=2020.1 in /usr/local/lib/python3.10/dist-packages (from pandas->codecarbon) (2023.3.post1)\n",
            "Requirement already satisfied: numpy>=1.21.0 in /usr/local/lib/python3.10/dist-packages (from pandas->codecarbon) (1.23.5)\n",
            "Requirement already satisfied: charset-normalizer<4,>=2 in /usr/local/lib/python3.10/dist-packages (from requests->codecarbon) (3.3.2)\n",
            "Requirement already satisfied: idna<4,>=2.5 in /usr/local/lib/python3.10/dist-packages (from requests->codecarbon) (3.6)\n",
            "Requirement already satisfied: urllib3<3,>=1.21.1 in /usr/local/lib/python3.10/dist-packages (from requests->codecarbon) (2.0.7)\n",
            "Requirement already satisfied: certifi>=2017.4.17 in /usr/local/lib/python3.10/dist-packages (from requests->codecarbon) (2023.11.17)\n",
            "Requirement already satisfied: six>=1.5 in /usr/local/lib/python3.10/dist-packages (from python-dateutil>=2.7.0->arrow->codecarbon) (1.16.0)\n",
            "Installing collected packages: types-python-dateutil, rapidfuzz, pynvml, arrow, codecarbon\n",
            "Successfully installed arrow-1.3.0 codecarbon-2.3.3 pynvml-11.5.0 rapidfuzz-3.6.1 types-python-dateutil-2.8.19.20240106\n"
          ]
        }
      ]
    },
    {
      "cell_type": "code",
      "source": [
        "import tensorflow as tf\n",
        "\n",
        "from codecarbon import EmissionsTracker\n",
        "\n",
        "mnist = tf.keras.datasets.mnist\n",
        "\n",
        "(x_train, y_train), (x_test, y_test) = mnist.load_data()\n",
        "x_train, x_test = x_train / 255.0, x_test / 255.0\n",
        "\n",
        "\n",
        "model = tf.keras.models.Sequential(\n",
        "    [\n",
        "        tf.keras.layers.Flatten(input_shape=(28, 28)),\n",
        "        tf.keras.layers.Dense(128, activation=\"relu\"),\n",
        "        tf.keras.layers.Dropout(0.2),\n",
        "        tf.keras.layers.Dense(10),\n",
        "    ]\n",
        ")\n",
        "\n",
        "loss_fn = tf.keras.losses.SparseCategoricalCrossentropy(from_logits=True)\n",
        "\n",
        "model.compile(optimizer=\"adam\", loss=loss_fn, metrics=[\"accuracy\"])\n",
        "\n",
        "tracker = EmissionsTracker()\n",
        "tracker.start()\n",
        "model.fit(x_train, y_train, epochs=10)\n",
        "emissions: float = tracker.stop()\n",
        "print(emissions)"
      ],
      "metadata": {
        "colab": {
          "base_uri": "https://localhost:8080/"
        },
        "id": "SfFk4kJRvdj-",
        "outputId": "1fbd6bf1-a663-4114-8c66-a26ff297fecd"
      },
      "execution_count": 9,
      "outputs": [
        {
          "output_type": "stream",
          "name": "stdout",
          "text": [
            "Downloading data from https://storage.googleapis.com/tensorflow/tf-keras-datasets/mnist.npz\n",
            "11490434/11490434 [==============================] - 0s 0us/step\n"
          ]
        },
        {
          "output_type": "stream",
          "name": "stderr",
          "text": [
            "[codecarbon INFO @ 15:43:31] [setup] RAM Tracking...\n",
            "[codecarbon INFO @ 15:43:31] [setup] GPU Tracking...\n",
            "[codecarbon INFO @ 15:43:31] No GPU found.\n",
            "[codecarbon INFO @ 15:43:31] [setup] CPU Tracking...\n",
            "[codecarbon WARNING @ 15:43:31] No CPU tracking mode found. Falling back on CPU constant mode.\n",
            "[codecarbon WARNING @ 15:43:33] We saw that you have a Intel(R) Xeon(R) CPU @ 2.20GHz but we don't know it. Please contact us.\n",
            "[codecarbon INFO @ 15:43:33] CPU Model on constant consumption mode: Intel(R) Xeon(R) CPU @ 2.20GHz\n",
            "[codecarbon INFO @ 15:43:33] >>> Tracker's metadata:\n",
            "[codecarbon INFO @ 15:43:33]   Platform system: Linux-6.1.58+-x86_64-with-glibc2.35\n",
            "[codecarbon INFO @ 15:43:33]   Python version: 3.10.12\n",
            "[codecarbon INFO @ 15:43:33]   CodeCarbon version: 2.3.3\n",
            "[codecarbon INFO @ 15:43:33]   Available RAM : 12.675 GB\n",
            "[codecarbon INFO @ 15:43:33]   CPU count: 2\n",
            "[codecarbon INFO @ 15:43:33]   CPU model: Intel(R) Xeon(R) CPU @ 2.20GHz\n",
            "[codecarbon INFO @ 15:43:33]   GPU count: None\n",
            "[codecarbon INFO @ 15:43:33]   GPU model: None\n"
          ]
        },
        {
          "output_type": "stream",
          "name": "stdout",
          "text": [
            "Epoch 1/10\n",
            "1875/1875 [==============================] - 12s 6ms/step - loss: 0.2918 - accuracy: 0.9148\n",
            "Epoch 2/10\n",
            " 663/1875 [=========>....................] - ETA: 3s - loss: 0.1532 - accuracy: 0.9543"
          ]
        },
        {
          "output_type": "stream",
          "name": "stderr",
          "text": [
            "[codecarbon INFO @ 15:43:48] Energy consumed for RAM : 0.000020 kWh. RAM Power : 4.753046035766602 W\n",
            "[codecarbon INFO @ 15:43:48] Energy consumed for all CPUs : 0.000177 kWh. Total CPU Power : 42.5 W\n",
            "[codecarbon INFO @ 15:43:48] 0.000197 kWh of electricity used since the beginning.\n"
          ]
        },
        {
          "output_type": "stream",
          "name": "stdout",
          "text": [
            "1875/1875 [==============================] - 6s 3ms/step - loss: 0.1440 - accuracy: 0.9576\n",
            "Epoch 3/10\n",
            "1875/1875 [==============================] - 9s 5ms/step - loss: 0.1078 - accuracy: 0.9674\n",
            "Epoch 4/10\n",
            " 654/1875 [=========>....................] - ETA: 4s - loss: 0.0857 - accuracy: 0.9732"
          ]
        },
        {
          "output_type": "stream",
          "name": "stderr",
          "text": [
            "[codecarbon INFO @ 15:44:03] Energy consumed for RAM : 0.000040 kWh. RAM Power : 4.753046035766602 W\n",
            "[codecarbon INFO @ 15:44:03] Energy consumed for all CPUs : 0.000354 kWh. Total CPU Power : 42.5 W\n",
            "[codecarbon INFO @ 15:44:03] 0.000394 kWh of electricity used since the beginning.\n"
          ]
        },
        {
          "output_type": "stream",
          "name": "stdout",
          "text": [
            "1875/1875 [==============================] - 8s 4ms/step - loss: 0.0863 - accuracy: 0.9731\n",
            "Epoch 5/10\n",
            "1875/1875 [==============================] - 7s 4ms/step - loss: 0.0742 - accuracy: 0.9757\n",
            "Epoch 6/10\n",
            " 674/1875 [=========>....................] - ETA: 4s - loss: 0.0601 - accuracy: 0.9814"
          ]
        },
        {
          "output_type": "stream",
          "name": "stderr",
          "text": [
            "[codecarbon INFO @ 15:44:18] Energy consumed for RAM : 0.000059 kWh. RAM Power : 4.753046035766602 W\n",
            "[codecarbon INFO @ 15:44:18] Energy consumed for all CPUs : 0.000531 kWh. Total CPU Power : 42.5 W\n",
            "[codecarbon INFO @ 15:44:18] 0.000591 kWh of electricity used since the beginning.\n"
          ]
        },
        {
          "output_type": "stream",
          "name": "stdout",
          "text": [
            "1875/1875 [==============================] - 8s 5ms/step - loss: 0.0648 - accuracy: 0.9798\n",
            "Epoch 7/10\n",
            "1875/1875 [==============================] - 7s 4ms/step - loss: 0.0578 - accuracy: 0.9811\n",
            "Epoch 8/10\n",
            " 563/1875 [========>.....................] - ETA: 4s - loss: 0.0492 - accuracy: 0.9838"
          ]
        },
        {
          "output_type": "stream",
          "name": "stderr",
          "text": [
            "[codecarbon INFO @ 15:44:33] Energy consumed for RAM : 0.000079 kWh. RAM Power : 4.753046035766602 W\n",
            "[codecarbon INFO @ 15:44:33] Energy consumed for all CPUs : 0.000708 kWh. Total CPU Power : 42.5 W\n",
            "[codecarbon INFO @ 15:44:33] 0.000787 kWh of electricity used since the beginning.\n"
          ]
        },
        {
          "output_type": "stream",
          "name": "stdout",
          "text": [
            "1875/1875 [==============================] - 8s 4ms/step - loss: 0.0524 - accuracy: 0.9826\n",
            "Epoch 9/10\n",
            "1875/1875 [==============================] - 7s 4ms/step - loss: 0.0473 - accuracy: 0.9842\n",
            "Epoch 10/10\n",
            " 451/1875 [======>.......................] - ETA: 6s - loss: 0.0391 - accuracy: 0.9881"
          ]
        },
        {
          "output_type": "stream",
          "name": "stderr",
          "text": [
            "[codecarbon INFO @ 15:44:48] Energy consumed for RAM : 0.000099 kWh. RAM Power : 4.753046035766602 W\n",
            "[codecarbon INFO @ 15:44:48] Energy consumed for all CPUs : 0.000885 kWh. Total CPU Power : 42.5 W\n",
            "[codecarbon INFO @ 15:44:48] 0.000984 kWh of electricity used since the beginning.\n"
          ]
        },
        {
          "output_type": "stream",
          "name": "stdout",
          "text": [
            "1875/1875 [==============================] - 8s 4ms/step - loss: 0.0439 - accuracy: 0.9857\n"
          ]
        },
        {
          "output_type": "stream",
          "name": "stderr",
          "text": [
            "[codecarbon INFO @ 15:44:54] Energy consumed for RAM : 0.000107 kWh. RAM Power : 4.753046035766602 W\n",
            "[codecarbon INFO @ 15:44:54] Energy consumed for all CPUs : 0.000961 kWh. Total CPU Power : 42.5 W\n",
            "[codecarbon INFO @ 15:44:54] 0.001068 kWh of electricity used since the beginning.\n"
          ]
        },
        {
          "output_type": "stream",
          "name": "stdout",
          "text": [
            "0.0003050331616057111\n"
          ]
        }
      ]
    },
    {
      "cell_type": "markdown",
      "source": [
        "[Ref](https://https://github.com/mlco2/codecarbon/tree/master/examples)"
      ],
      "metadata": {
        "id": "zqk6OfNIwNiN"
      }
    },
    {
      "cell_type": "code",
      "source": [],
      "metadata": {
        "id": "7jSHuYGuwQWP"
      },
      "execution_count": 9,
      "outputs": []
    },
    {
      "cell_type": "markdown",
      "source": [
        "## Faker"
      ],
      "metadata": {
        "id": "xz7yYwcDwqhM"
      }
    },
    {
      "cell_type": "code",
      "source": [
        "! pip install faker\n",
        "from faker import Faker"
      ],
      "metadata": {
        "colab": {
          "base_uri": "https://localhost:8080/"
        },
        "id": "CWs54hVvwyIq",
        "outputId": "78342f3d-7e87-4655-dc23-a35913f19454"
      },
      "execution_count": 10,
      "outputs": [
        {
          "output_type": "stream",
          "name": "stdout",
          "text": [
            "Collecting faker\n",
            "  Downloading Faker-22.5.0-py3-none-any.whl (1.7 MB)\n",
            "\u001b[2K     \u001b[90m━━━━━━━━━━━━━━━━━━━━━━━━━━━━━━━━━━━━━━━━\u001b[0m \u001b[32m1.7/1.7 MB\u001b[0m \u001b[31m8.4 MB/s\u001b[0m eta \u001b[36m0:00:00\u001b[0m\n",
            "\u001b[?25hRequirement already satisfied: python-dateutil>=2.4 in /usr/local/lib/python3.10/dist-packages (from faker) (2.8.2)\n",
            "Requirement already satisfied: six>=1.5 in /usr/local/lib/python3.10/dist-packages (from python-dateutil>=2.4->faker) (1.16.0)\n",
            "Installing collected packages: faker\n",
            "Successfully installed faker-22.5.0\n"
          ]
        }
      ]
    },
    {
      "cell_type": "code",
      "source": [
        "# Create a Faker instance\n",
        "fake = Faker()\n",
        "\n",
        "# Example 1: Generating fake text-related data\n",
        "print(\"\\nExample 1:\")\n",
        "for _ in range(2):\n",
        "    print(\"Random Word:\", fake.word())\n",
        "    print(\"Sentence:\", fake.sentence())\n",
        "    print(\"Text (100 characters):\", fake.text(max_nb_chars=100))\n",
        "    print(\"-\" * 20)"
      ],
      "metadata": {
        "colab": {
          "base_uri": "https://localhost:8080/"
        },
        "id": "P6fFP7Erwr4V",
        "outputId": "8dfe4eb6-8d37-49dc-e677-1071b87b12cc"
      },
      "execution_count": 11,
      "outputs": [
        {
          "output_type": "stream",
          "name": "stdout",
          "text": [
            "\n",
            "Example 1:\n",
            "Random Word: our\n",
            "Sentence: Add clear moment myself move.\n",
            "Text (100 characters): Begin week camera just. Shake brother power up around hear national.\n",
            "--------------------\n",
            "Random Word: much\n",
            "Sentence: Everybody lead return which music.\n",
            "Text (100 characters): Same both she catch. Month surface boy sort cold stop.\n",
            "Bed official mouth good rather owner.\n",
            "--------------------\n"
          ]
        }
      ]
    },
    {
      "cell_type": "code",
      "source": [
        "# Example 2: Generating fake names and addresses\n",
        "print(\"Example 2:\")\n",
        "for _ in range(5):\n",
        "    print(\"Name:\", fake.name())\n",
        "    print(\"Address:\", fake.address())\n",
        "    print(\"-\" * 20)"
      ],
      "metadata": {
        "colab": {
          "base_uri": "https://localhost:8080/"
        },
        "id": "hZtlw5WMxBhT",
        "outputId": "fa01e00f-b970-4766-f1e9-67ecbbd1f59f"
      },
      "execution_count": 12,
      "outputs": [
        {
          "output_type": "stream",
          "name": "stdout",
          "text": [
            "Example 2:\n",
            "Name: Martin Johnson\n",
            "Address: 69933 Nicole Mews Apt. 436\n",
            "Justinton, OK 85775\n",
            "--------------------\n",
            "Name: Sarah Thompson\n",
            "Address: Unit 0059 Box 5473\n",
            "DPO AA 04056\n",
            "--------------------\n",
            "Name: Amber Bennett\n",
            "Address: 3926 Victoria Harbor Apt. 012\n",
            "Fowlershire, CO 76555\n",
            "--------------------\n",
            "Name: Carlos Jones\n",
            "Address: 366 Julia Plains\n",
            "Lake Walter, IA 22521\n",
            "--------------------\n",
            "Name: Charles Delgado\n",
            "Address: 2736 Billy Pine Apt. 036\n",
            "Javierbury, ME 77957\n",
            "--------------------\n"
          ]
        }
      ]
    },
    {
      "cell_type": "code",
      "source": [
        "# Example 3: Generating fake email addresses and phone numbers\n",
        "print(\"\\nExample 3:\")\n",
        "for _ in range(5):\n",
        "    print(\"Email:\", fake.email())\n",
        "    print(\"Phone:\", fake.phone_number())\n",
        "    print(\"-\" * 20)"
      ],
      "metadata": {
        "colab": {
          "base_uri": "https://localhost:8080/"
        },
        "id": "3fkViVRJ_Jgj",
        "outputId": "855f6941-2431-47eb-bdbc-b42971da0585"
      },
      "execution_count": 13,
      "outputs": [
        {
          "output_type": "stream",
          "name": "stdout",
          "text": [
            "\n",
            "Example 3:\n",
            "Email: madisondrake@example.net\n",
            "Phone: 225.391.1979\n",
            "--------------------\n",
            "Email: edaugherty@example.org\n",
            "Phone: (480)321-8962x74617\n",
            "--------------------\n",
            "Email: marklynch@example.org\n",
            "Phone: 549.290.4997x790\n",
            "--------------------\n",
            "Email: amartinez@example.net\n",
            "Phone: 9916982722\n",
            "--------------------\n",
            "Email: ashleydavis@example.net\n",
            "Phone: 001-432-467-7410x41761\n",
            "--------------------\n"
          ]
        }
      ]
    },
    {
      "cell_type": "code",
      "source": [
        "# Example 4: Generating fake dates\n",
        "print(\"\\nExample 4:\")\n",
        "for _ in range(5):\n",
        "    print(\"Date of Birth:\", fake.date_of_birth())\n",
        "    print(\"Future Date:\", fake.future_date(end_date=\"+30d\"))\n",
        "    print(\"-\" * 20)"
      ],
      "metadata": {
        "colab": {
          "base_uri": "https://localhost:8080/"
        },
        "id": "eTKRIDm5AO_w",
        "outputId": "074b2122-530f-4226-ecc5-2dd2288371b0"
      },
      "execution_count": 14,
      "outputs": [
        {
          "output_type": "stream",
          "name": "stdout",
          "text": [
            "\n",
            "Example 4:\n",
            "Date of Birth: 1908-07-14\n",
            "Future Date: 2024-02-10\n",
            "--------------------\n",
            "Date of Birth: 1918-09-25\n",
            "Future Date: 2024-01-30\n",
            "--------------------\n",
            "Date of Birth: 2002-05-05\n",
            "Future Date: 2024-01-25\n",
            "--------------------\n",
            "Date of Birth: 1916-09-20\n",
            "Future Date: 2024-01-29\n",
            "--------------------\n",
            "Date of Birth: 1955-04-09\n",
            "Future Date: 2024-02-02\n",
            "--------------------\n"
          ]
        }
      ]
    },
    {
      "cell_type": "code",
      "source": [
        "# Example 5: Generating fake lorem ipsum text\n",
        "print(\"\\nExample 5:\")\n",
        "for _ in range(2):\n",
        "    print(fake.paragraph())\n",
        "    print(\"-\" * 20)"
      ],
      "metadata": {
        "colab": {
          "base_uri": "https://localhost:8080/"
        },
        "id": "5uBde0_fARmr",
        "outputId": "5db6433a-28c7-4eed-c917-f21722a2b217"
      },
      "execution_count": 15,
      "outputs": [
        {
          "output_type": "stream",
          "name": "stdout",
          "text": [
            "\n",
            "Example 5:\n",
            "Size parent energy position his represent see. Finish require more.\n",
            "--------------------\n",
            "Investment relationship story town poor PM could. Accept popular arm remember far tonight. Whose agree available poor hit have perhaps. Entire edge special hair.\n",
            "--------------------\n"
          ]
        }
      ]
    },
    {
      "cell_type": "code",
      "source": [
        "# Example 6: Generating fake credit card information\n",
        "print(\"\\nExample 6:\")\n",
        "for _ in range(10):\n",
        "    print(\"Credit Card Number:\", fake.credit_card_number())\n",
        "    print(\"Credit Card Expiry:\", fake.credit_card_expire())\n",
        "    #print(\"-\" * 20)"
      ],
      "metadata": {
        "colab": {
          "base_uri": "https://localhost:8080/"
        },
        "id": "6jjkTA8PAXp6",
        "outputId": "99770956-642b-455c-a2fa-a109907fd910"
      },
      "execution_count": 16,
      "outputs": [
        {
          "output_type": "stream",
          "name": "stdout",
          "text": [
            "\n",
            "Example 6:\n",
            "Credit Card Number: 3503313723077411\n",
            "Credit Card Expiry: 02/29\n",
            "Credit Card Number: 379429937768228\n",
            "Credit Card Expiry: 10/32\n",
            "Credit Card Number: 4087601564030040\n",
            "Credit Card Expiry: 03/30\n",
            "Credit Card Number: 2266483511882949\n",
            "Credit Card Expiry: 07/31\n",
            "Credit Card Number: 180045633830465\n",
            "Credit Card Expiry: 10/32\n",
            "Credit Card Number: 30253717189582\n",
            "Credit Card Expiry: 01/33\n",
            "Credit Card Number: 375451247662473\n",
            "Credit Card Expiry: 10/27\n",
            "Credit Card Number: 676118935102\n",
            "Credit Card Expiry: 08/25\n",
            "Credit Card Number: 501880480261\n",
            "Credit Card Expiry: 11/33\n",
            "Credit Card Number: 213119436146220\n",
            "Credit Card Expiry: 10/28\n"
          ]
        }
      ]
    },
    {
      "cell_type": "code",
      "source": [
        "# Example 7: Generating fake job-related data\n",
        "print(\"Example 7:\")\n",
        "for _ in range(5):\n",
        "    print(\"Job Title:\", fake.job())\n",
        "    print(\"Company:\", fake.company())\n",
        "    print(\"-\" * 20)"
      ],
      "metadata": {
        "colab": {
          "base_uri": "https://localhost:8080/"
        },
        "id": "rpNhxUEUAd6p",
        "outputId": "697f4944-63ed-410a-a585-f66b589e182e"
      },
      "execution_count": 18,
      "outputs": [
        {
          "output_type": "stream",
          "name": "stdout",
          "text": [
            "Example 7:\n",
            "Job Title: Water quality scientist\n",
            "Company: Walker Group\n",
            "--------------------\n",
            "Job Title: Multimedia programmer\n",
            "Company: Moore, Gomez and Greer\n",
            "--------------------\n",
            "Job Title: Insurance underwriter\n",
            "Company: Smith LLC\n",
            "--------------------\n",
            "Job Title: Public relations account executive\n",
            "Company: Brown, Wright and Smith\n",
            "--------------------\n",
            "Job Title: Emergency planning/management officer\n",
            "Company: Chang, Boyd and Garcia\n",
            "--------------------\n"
          ]
        }
      ]
    },
    {
      "cell_type": "code",
      "source": [
        "# Example 8: Generating fake internet-related data\n",
        "print(\"\\nExample 8:\")\n",
        "for _ in range(5):\n",
        "    print(\"Username:\", fake.user_name())\n",
        "    print(\"Domain Name:\", fake.domain_name())\n",
        "    print(\"URL:\", fake.url())\n",
        "    print(\"-\" * 20)"
      ],
      "metadata": {
        "colab": {
          "base_uri": "https://localhost:8080/"
        },
        "id": "VL6gJfdXAqlX",
        "outputId": "bec2d665-53da-4bff-cbe3-8690d1bdf0a0"
      },
      "execution_count": 19,
      "outputs": [
        {
          "output_type": "stream",
          "name": "stdout",
          "text": [
            "\n",
            "Example 8:\n",
            "Username: toddjackson\n",
            "Domain Name: hale.com\n",
            "URL: http://nash.org/\n",
            "--------------------\n",
            "Username: matthewbyrd\n",
            "Domain Name: cannon.com\n",
            "URL: https://www.coleman.com/\n",
            "--------------------\n",
            "Username: zmercer\n",
            "Domain Name: martinez-mendoza.info\n",
            "URL: https://www.shelton.com/\n",
            "--------------------\n",
            "Username: tkim\n",
            "Domain Name: huerta.com\n",
            "URL: https://www.lee-williams.info/\n",
            "--------------------\n",
            "Username: fostermiguel\n",
            "Domain Name: scott-floyd.info\n",
            "URL: http://www.martin.com/\n",
            "--------------------\n"
          ]
        }
      ]
    },
    {
      "cell_type": "code",
      "source": [
        "# Example 9: Generating fake geographic data\n",
        "print(\"\\nExample 9:\")\n",
        "for _ in range(5):\n",
        "    print(\"City:\", fake.city())\n",
        "    print(\"Country:\", fake.country())\n",
        "    print(\"Latitude:\", fake.latitude())\n",
        "    print(\"Longitude:\", fake.longitude())\n",
        "    print(\"-\" * 20)"
      ],
      "metadata": {
        "colab": {
          "base_uri": "https://localhost:8080/"
        },
        "id": "G5Ux2CCcAuKz",
        "outputId": "d4d0f39b-09dd-4990-aaf5-1ca845ed0045"
      },
      "execution_count": 20,
      "outputs": [
        {
          "output_type": "stream",
          "name": "stdout",
          "text": [
            "\n",
            "Example 9:\n",
            "City: Jackfurt\n",
            "Country: Thailand\n",
            "Latitude: -50.5227985\n",
            "Longitude: -151.473166\n",
            "--------------------\n",
            "City: Kellystad\n",
            "Country: Eritrea\n",
            "Latitude: 67.6428035\n",
            "Longitude: 19.015742\n",
            "--------------------\n",
            "City: Kevinbury\n",
            "Country: Eritrea\n",
            "Latitude: -73.9889715\n",
            "Longitude: 76.453409\n",
            "--------------------\n",
            "City: New Samanthaville\n",
            "Country: Argentina\n",
            "Latitude: -89.8469675\n",
            "Longitude: 151.523373\n",
            "--------------------\n",
            "City: Port Kristieland\n",
            "Country: Anguilla\n",
            "Latitude: 72.672242\n",
            "Longitude: -142.421346\n",
            "--------------------\n"
          ]
        }
      ]
    },
    {
      "cell_type": "code",
      "source": [
        "# Example 10: Generating fake random data\n",
        "print(\"\\nExample 10:\")\n",
        "for _ in range(5):\n",
        "    print(\"Random Letter:\", fake.random_letter())\n",
        "    print(\"Random Element from List:\", fake.random_element([\"apple\", \"banana\", \"cherry\"]))\n",
        "    print(\"Random Digit:\", fake.random_digit())\n",
        "    print(\"-\" * 20)"
      ],
      "metadata": {
        "colab": {
          "base_uri": "https://localhost:8080/"
        },
        "id": "Vq_PmxkwAy8k",
        "outputId": "2685f22d-f92f-4bca-ea71-ffd6cb21d64f"
      },
      "execution_count": 21,
      "outputs": [
        {
          "output_type": "stream",
          "name": "stdout",
          "text": [
            "\n",
            "Example 10:\n",
            "Random Letter: W\n",
            "Random Element from List: apple\n",
            "Random Digit: 5\n",
            "--------------------\n",
            "Random Letter: z\n",
            "Random Element from List: cherry\n",
            "Random Digit: 0\n",
            "--------------------\n",
            "Random Letter: I\n",
            "Random Element from List: apple\n",
            "Random Digit: 5\n",
            "--------------------\n",
            "Random Letter: e\n",
            "Random Element from List: cherry\n",
            "Random Digit: 8\n",
            "--------------------\n",
            "Random Letter: K\n",
            "Random Element from List: cherry\n",
            "Random Digit: 7\n",
            "--------------------\n"
          ]
        }
      ]
    },
    {
      "cell_type": "code",
      "source": [
        "# Example 11: Generating fake UUIDs and GUIDs\n",
        "print(\"\\nExample 11:\")\n",
        "for _ in range(5):\n",
        "    print(\"UUID4:\", fake.uuid4())\n",
        "    #print(\"GUID:\", fake.guid())\n",
        "    print(\"-\" * 20)"
      ],
      "metadata": {
        "colab": {
          "base_uri": "https://localhost:8080/"
        },
        "id": "fHS7HDBHA4YM",
        "outputId": "1e98f78a-e34b-48cf-9a19-2ed4d22ef1b5"
      },
      "execution_count": 23,
      "outputs": [
        {
          "output_type": "stream",
          "name": "stdout",
          "text": [
            "\n",
            "Example 11:\n",
            "UUID4: aad222eb-2617-47f6-bd2f-35c202fd0821\n",
            "--------------------\n",
            "UUID4: c496c9c3-7c3e-4a23-a109-179649fb1b55\n",
            "--------------------\n",
            "UUID4: 29a0c876-674d-4fc5-be70-4a164615e67e\n",
            "--------------------\n",
            "UUID4: 2d4b5f92-6372-41d1-bd5f-08aba9c3549e\n",
            "--------------------\n",
            "UUID4: 7fd3a919-9034-48c4-8d5f-61b6cb0305be\n",
            "--------------------\n"
          ]
        }
      ]
    },
    {
      "cell_type": "code",
      "source": [
        "# Example 12: Generating fake file-related data\n",
        "print(\"\\nExample 12:\")\n",
        "for _ in range(5):\n",
        "    print(\"File Name:\", fake.file_name(extension=\"txt\"))\n",
        "    print(\"File Extension:\", fake.file_extension())\n",
        "    print(\"File MIME Type:\", fake.mime_type())\n",
        "    print(\"-\" * 20)"
      ],
      "metadata": {
        "colab": {
          "base_uri": "https://localhost:8080/"
        },
        "id": "gzZ2j9KGA9_m",
        "outputId": "12e2a7e5-3aee-4246-f824-1e320fed9c5c"
      },
      "execution_count": 24,
      "outputs": [
        {
          "output_type": "stream",
          "name": "stdout",
          "text": [
            "\n",
            "Example 12:\n",
            "File Name: subject.txt\n",
            "File Extension: csv\n",
            "File MIME Type: message/rfc822\n",
            "--------------------\n",
            "File Name: matter.txt\n",
            "File Extension: bmp\n",
            "File MIME Type: application/EDI-X12\n",
            "--------------------\n",
            "File Name: office.txt\n",
            "File Extension: ppt\n",
            "File MIME Type: audio/vorbis\n",
            "--------------------\n",
            "File Name: public.txt\n",
            "File Extension: pages\n",
            "File MIME Type: model/x3d+binary\n",
            "--------------------\n",
            "File Name: plan.txt\n",
            "File Extension: flac\n",
            "File MIME Type: message/http\n",
            "--------------------\n"
          ]
        }
      ]
    },
    {
      "cell_type": "code",
      "source": [
        "# Example 13: Generating fake vehicle-related data\n",
        "print(\"\\nExample 13:\")\n",
        "for _ in range(5):\n",
        "    #print(\"Vehicle Make:\", fake.vehicle_make())\n",
        "    #print(\"Vehicle Model:\", fake.vehicle_model())\n",
        "    print(\"License Plate:\", fake.license_plate())\n",
        "    print(\"-\" * 20)"
      ],
      "metadata": {
        "colab": {
          "base_uri": "https://localhost:8080/"
        },
        "id": "jY7w6pEqBBL_",
        "outputId": "54c58a99-e552-456a-a931-e7f8383c1be3"
      },
      "execution_count": 27,
      "outputs": [
        {
          "output_type": "stream",
          "name": "stdout",
          "text": [
            "\n",
            "Example 13:\n",
            "License Plate: 959-EFS\n",
            "--------------------\n",
            "License Plate: XVR-713\n",
            "--------------------\n",
            "License Plate: 32S•829\n",
            "--------------------\n",
            "License Plate: EVS 965\n",
            "--------------------\n",
            "License Plate: 6W TL673\n",
            "--------------------\n"
          ]
        }
      ]
    }
  ]
}