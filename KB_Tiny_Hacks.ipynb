{
  "nbformat": 4,
  "nbformat_minor": 0,
  "metadata": {
    "colab": {
      "provenance": [],
      "authorship_tag": "ABX9TyOeEXJOnueHmATCtGjgUNZg"
    },
    "kernelspec": {
      "name": "python3",
      "display_name": "Python 3"
    },
    "language_info": {
      "name": "python"
    }
  },
  "cells": [
    {
      "cell_type": "markdown",
      "source": [
        "## Numerizer"
      ],
      "metadata": {
        "id": "SSUyCZDpu9FO"
      }
    },
    {
      "cell_type": "code",
      "execution_count": 1,
      "metadata": {
        "colab": {
          "base_uri": "https://localhost:8080/"
        },
        "id": "km6r7f4BuRRG",
        "outputId": "a4fa8449-936a-475d-aca2-ec6d61a6de19"
      },
      "outputs": [
        {
          "output_type": "stream",
          "name": "stdout",
          "text": [
            "Collecting numerizer\n",
            "  Downloading numerizer-0.2.3.tar.gz (7.0 kB)\n",
            "  Preparing metadata (setup.py) ... \u001b[?25l\u001b[?25hdone\n",
            "Building wheels for collected packages: numerizer\n",
            "  Building wheel for numerizer (setup.py) ... \u001b[?25l\u001b[?25hdone\n",
            "  Created wheel for numerizer: filename=numerizer-0.2.3-py2.py3-none-any.whl size=7282 sha256=c636cec525b5b75b9206522d9ddc485ef928bcfffc931e13fd48e88f71e0075b\n",
            "  Stored in directory: /root/.cache/pip/wheels/a6/f5/41/061ebb390bcaff59039c490836f12f0ee8d29ca5d3e69f829c\n",
            "Successfully built numerizer\n",
            "Installing collected packages: numerizer\n",
            "Successfully installed numerizer-0.2.3\n"
          ]
        }
      ],
      "source": [
        "! pip install numerizer"
      ]
    },
    {
      "cell_type": "code",
      "source": [
        "from numerizer import numerize"
      ],
      "metadata": {
        "id": "RoMkTvj0uXlf"
      },
      "execution_count": 2,
      "outputs": []
    },
    {
      "cell_type": "code",
      "source": [
        "numerize('twenty one thousand four hundred and seventy three')"
      ],
      "metadata": {
        "colab": {
          "base_uri": "https://localhost:8080/",
          "height": 35
        },
        "id": "mBCtvZ48uZgX",
        "outputId": "c224a1da-a365-4c85-bda0-26de1a67fca8"
      },
      "execution_count": 3,
      "outputs": [
        {
          "output_type": "execute_result",
          "data": {
            "text/plain": [
              "'21473'"
            ],
            "application/vnd.google.colaboratory.intrinsic+json": {
              "type": "string"
            }
          },
          "metadata": {},
          "execution_count": 3
        }
      ]
    },
    {
      "cell_type": "code",
      "source": [
        "numerize('platform nine and three quarters')"
      ],
      "metadata": {
        "colab": {
          "base_uri": "https://localhost:8080/",
          "height": 35
        },
        "id": "OPHo1SV2ug-v",
        "outputId": "da2cb554-e1a6-44f2-f481-4ee9028d50a0"
      },
      "execution_count": 4,
      "outputs": [
        {
          "output_type": "execute_result",
          "data": {
            "text/plain": [
              "'platform 9.75'"
            ],
            "application/vnd.google.colaboratory.intrinsic+json": {
              "type": "string"
            }
          },
          "metadata": {},
          "execution_count": 4
        }
      ]
    },
    {
      "cell_type": "markdown",
      "source": [
        "## CodeCarbon"
      ],
      "metadata": {
        "id": "jTF5JTLfwTYK"
      }
    },
    {
      "cell_type": "code",
      "source": [
        "! pip install codecarbon"
      ],
      "metadata": {
        "colab": {
          "base_uri": "https://localhost:8080/"
        },
        "id": "LOQDWh5OvgEB",
        "outputId": "1f989133-645c-4710-bccc-a5d685d8d1ab"
      },
      "execution_count": 5,
      "outputs": [
        {
          "output_type": "stream",
          "name": "stdout",
          "text": [
            "Collecting codecarbon\n",
            "  Downloading codecarbon-2.3.3-py3-none-any.whl (181 kB)\n",
            "\u001b[2K     \u001b[90m━━━━━━━━━━━━━━━━━━━━━━━━━━━━━━━━━━━━━━━━\u001b[0m \u001b[32m181.6/181.6 kB\u001b[0m \u001b[31m3.5 MB/s\u001b[0m eta \u001b[36m0:00:00\u001b[0m\n",
            "\u001b[?25hCollecting arrow (from codecarbon)\n",
            "  Downloading arrow-1.3.0-py3-none-any.whl (66 kB)\n",
            "\u001b[2K     \u001b[90m━━━━━━━━━━━━━━━━━━━━━━━━━━━━━━━━━━━━━━━━\u001b[0m \u001b[32m66.4/66.4 kB\u001b[0m \u001b[31m9.4 MB/s\u001b[0m eta \u001b[36m0:00:00\u001b[0m\n",
            "\u001b[?25hRequirement already satisfied: pandas in /usr/local/lib/python3.10/dist-packages (from codecarbon) (1.5.3)\n",
            "Collecting pynvml (from codecarbon)\n",
            "  Downloading pynvml-11.5.0-py3-none-any.whl (53 kB)\n",
            "\u001b[2K     \u001b[90m━━━━━━━━━━━━━━━━━━━━━━━━━━━━━━━━━━━━━━━━\u001b[0m \u001b[32m53.1/53.1 kB\u001b[0m \u001b[31m8.6 MB/s\u001b[0m eta \u001b[36m0:00:00\u001b[0m\n",
            "\u001b[?25hRequirement already satisfied: requests in /usr/local/lib/python3.10/dist-packages (from codecarbon) (2.31.0)\n",
            "Requirement already satisfied: psutil in /usr/local/lib/python3.10/dist-packages (from codecarbon) (5.9.5)\n",
            "Requirement already satisfied: py-cpuinfo in /usr/local/lib/python3.10/dist-packages (from codecarbon) (9.0.0)\n",
            "Collecting rapidfuzz (from codecarbon)\n",
            "  Downloading rapidfuzz-3.6.1-cp310-cp310-manylinux_2_17_x86_64.manylinux2014_x86_64.whl (3.4 MB)\n",
            "\u001b[2K     \u001b[90m━━━━━━━━━━━━━━━━━━━━━━━━━━━━━━━━━━━━━━━━\u001b[0m \u001b[32m3.4/3.4 MB\u001b[0m \u001b[31m37.4 MB/s\u001b[0m eta \u001b[36m0:00:00\u001b[0m\n",
            "\u001b[?25hRequirement already satisfied: click in /usr/local/lib/python3.10/dist-packages (from codecarbon) (8.1.7)\n",
            "Requirement already satisfied: prometheus-client in /usr/local/lib/python3.10/dist-packages (from codecarbon) (0.19.0)\n",
            "Requirement already satisfied: python-dateutil>=2.7.0 in /usr/local/lib/python3.10/dist-packages (from arrow->codecarbon) (2.8.2)\n",
            "Collecting types-python-dateutil>=2.8.10 (from arrow->codecarbon)\n",
            "  Downloading types_python_dateutil-2.8.19.20240106-py3-none-any.whl (9.7 kB)\n",
            "Requirement already satisfied: pytz>=2020.1 in /usr/local/lib/python3.10/dist-packages (from pandas->codecarbon) (2023.3.post1)\n",
            "Requirement already satisfied: numpy>=1.21.0 in /usr/local/lib/python3.10/dist-packages (from pandas->codecarbon) (1.23.5)\n",
            "Requirement already satisfied: charset-normalizer<4,>=2 in /usr/local/lib/python3.10/dist-packages (from requests->codecarbon) (3.3.2)\n",
            "Requirement already satisfied: idna<4,>=2.5 in /usr/local/lib/python3.10/dist-packages (from requests->codecarbon) (3.6)\n",
            "Requirement already satisfied: urllib3<3,>=1.21.1 in /usr/local/lib/python3.10/dist-packages (from requests->codecarbon) (2.0.7)\n",
            "Requirement already satisfied: certifi>=2017.4.17 in /usr/local/lib/python3.10/dist-packages (from requests->codecarbon) (2023.11.17)\n",
            "Requirement already satisfied: six>=1.5 in /usr/local/lib/python3.10/dist-packages (from python-dateutil>=2.7.0->arrow->codecarbon) (1.16.0)\n",
            "Installing collected packages: types-python-dateutil, rapidfuzz, pynvml, arrow, codecarbon\n",
            "Successfully installed arrow-1.3.0 codecarbon-2.3.3 pynvml-11.5.0 rapidfuzz-3.6.1 types-python-dateutil-2.8.19.20240106\n"
          ]
        }
      ]
    },
    {
      "cell_type": "code",
      "source": [
        "import tensorflow as tf\n",
        "\n",
        "from codecarbon import EmissionsTracker\n",
        "\n",
        "mnist = tf.keras.datasets.mnist\n",
        "\n",
        "(x_train, y_train), (x_test, y_test) = mnist.load_data()\n",
        "x_train, x_test = x_train / 255.0, x_test / 255.0\n",
        "\n",
        "\n",
        "model = tf.keras.models.Sequential(\n",
        "    [\n",
        "        tf.keras.layers.Flatten(input_shape=(28, 28)),\n",
        "        tf.keras.layers.Dense(128, activation=\"relu\"),\n",
        "        tf.keras.layers.Dropout(0.2),\n",
        "        tf.keras.layers.Dense(10),\n",
        "    ]\n",
        ")\n",
        "\n",
        "loss_fn = tf.keras.losses.SparseCategoricalCrossentropy(from_logits=True)\n",
        "\n",
        "model.compile(optimizer=\"adam\", loss=loss_fn, metrics=[\"accuracy\"])\n",
        "\n",
        "tracker = EmissionsTracker()\n",
        "tracker.start()\n",
        "model.fit(x_train, y_train, epochs=10)\n",
        "emissions: float = tracker.stop()\n",
        "print(emissions)"
      ],
      "metadata": {
        "colab": {
          "base_uri": "https://localhost:8080/"
        },
        "id": "SfFk4kJRvdj-",
        "outputId": "0f0c9b8f-fc9d-4a3f-a207-7c02f30ec649"
      },
      "execution_count": 6,
      "outputs": [
        {
          "output_type": "stream",
          "name": "stdout",
          "text": [
            "Downloading data from https://storage.googleapis.com/tensorflow/tf-keras-datasets/mnist.npz\n",
            "11490434/11490434 [==============================] - 0s 0us/step\n"
          ]
        },
        {
          "output_type": "stream",
          "name": "stderr",
          "text": [
            "[codecarbon INFO @ 14:34:22] [setup] RAM Tracking...\n",
            "[codecarbon INFO @ 14:34:22] [setup] GPU Tracking...\n",
            "[codecarbon INFO @ 14:34:22] No GPU found.\n",
            "[codecarbon INFO @ 14:34:22] [setup] CPU Tracking...\n",
            "[codecarbon WARNING @ 14:34:22] No CPU tracking mode found. Falling back on CPU constant mode.\n",
            "[codecarbon WARNING @ 14:34:23] We saw that you have a Intel(R) Xeon(R) CPU @ 2.20GHz but we don't know it. Please contact us.\n",
            "[codecarbon INFO @ 14:34:23] CPU Model on constant consumption mode: Intel(R) Xeon(R) CPU @ 2.20GHz\n",
            "[codecarbon INFO @ 14:34:23] >>> Tracker's metadata:\n",
            "[codecarbon INFO @ 14:34:23]   Platform system: Linux-6.1.58+-x86_64-with-glibc2.35\n",
            "[codecarbon INFO @ 14:34:23]   Python version: 3.10.12\n",
            "[codecarbon INFO @ 14:34:23]   CodeCarbon version: 2.3.3\n",
            "[codecarbon INFO @ 14:34:23]   Available RAM : 12.675 GB\n",
            "[codecarbon INFO @ 14:34:23]   CPU count: 2\n",
            "[codecarbon INFO @ 14:34:23]   CPU model: Intel(R) Xeon(R) CPU @ 2.20GHz\n",
            "[codecarbon INFO @ 14:34:23]   GPU count: None\n",
            "[codecarbon INFO @ 14:34:23]   GPU model: None\n"
          ]
        },
        {
          "output_type": "stream",
          "name": "stdout",
          "text": [
            "Epoch 1/10\n",
            "1875/1875 [==============================] - 14s 7ms/step - loss: 0.2975 - accuracy: 0.9144\n",
            "Epoch 2/10\n",
            "  55/1875 [..............................] - ETA: 8s - loss: 0.1563 - accuracy: 0.9523"
          ]
        },
        {
          "output_type": "stream",
          "name": "stderr",
          "text": [
            "[codecarbon INFO @ 14:34:39] Energy consumed for RAM : 0.000020 kWh. RAM Power : 4.753043174743652 W\n",
            "[codecarbon INFO @ 14:34:39] Energy consumed for all CPUs : 0.000177 kWh. Total CPU Power : 42.5 W\n",
            "[codecarbon INFO @ 14:34:39] 0.000197 kWh of electricity used since the beginning.\n"
          ]
        },
        {
          "output_type": "stream",
          "name": "stdout",
          "text": [
            "1875/1875 [==============================] - 8s 4ms/step - loss: 0.1440 - accuracy: 0.9569\n",
            "Epoch 3/10\n",
            "1875/1875 [==============================] - 6s 3ms/step - loss: 0.1085 - accuracy: 0.9667\n",
            "Epoch 4/10\n",
            " 435/1875 [=====>........................] - ETA: 4s - loss: 0.0903 - accuracy: 0.9718"
          ]
        },
        {
          "output_type": "stream",
          "name": "stderr",
          "text": [
            "[codecarbon INFO @ 14:34:54] Energy consumed for RAM : 0.000040 kWh. RAM Power : 4.753043174743652 W\n",
            "[codecarbon INFO @ 14:34:54] Energy consumed for all CPUs : 0.000354 kWh. Total CPU Power : 42.5 W\n",
            "[codecarbon INFO @ 14:34:54] 0.000394 kWh of electricity used since the beginning.\n"
          ]
        },
        {
          "output_type": "stream",
          "name": "stdout",
          "text": [
            "1875/1875 [==============================] - 7s 4ms/step - loss: 0.0868 - accuracy: 0.9729\n",
            "Epoch 5/10\n",
            "1875/1875 [==============================] - 6s 3ms/step - loss: 0.0767 - accuracy: 0.9758\n",
            "Epoch 6/10\n",
            " 744/1875 [==========>...................] - ETA: 4s - loss: 0.0604 - accuracy: 0.9804"
          ]
        },
        {
          "output_type": "stream",
          "name": "stderr",
          "text": [
            "[codecarbon INFO @ 14:35:09] Energy consumed for RAM : 0.000059 kWh. RAM Power : 4.753043174743652 W\n",
            "[codecarbon INFO @ 14:35:09] Energy consumed for all CPUs : 0.000531 kWh. Total CPU Power : 42.5 W\n",
            "[codecarbon INFO @ 14:35:09] 0.000591 kWh of electricity used since the beginning.\n"
          ]
        },
        {
          "output_type": "stream",
          "name": "stdout",
          "text": [
            "1875/1875 [==============================] - 8s 4ms/step - loss: 0.0670 - accuracy: 0.9790\n",
            "Epoch 7/10\n",
            "1875/1875 [==============================] - 6s 3ms/step - loss: 0.0607 - accuracy: 0.9800\n",
            "Epoch 8/10\n",
            "1075/1875 [================>.............] - ETA: 3s - loss: 0.0487 - accuracy: 0.9844"
          ]
        },
        {
          "output_type": "stream",
          "name": "stderr",
          "text": [
            "[codecarbon INFO @ 14:35:24] Energy consumed for RAM : 0.000079 kWh. RAM Power : 4.753043174743652 W\n",
            "[codecarbon INFO @ 14:35:24] Energy consumed for all CPUs : 0.000708 kWh. Total CPU Power : 42.5 W\n",
            "[codecarbon INFO @ 14:35:24] 0.000788 kWh of electricity used since the beginning.\n"
          ]
        },
        {
          "output_type": "stream",
          "name": "stdout",
          "text": [
            "1875/1875 [==============================] - 7s 4ms/step - loss: 0.0519 - accuracy: 0.9833\n",
            "Epoch 9/10\n",
            "1875/1875 [==============================] - 6s 3ms/step - loss: 0.0472 - accuracy: 0.9839\n",
            "Epoch 10/10\n",
            "1356/1875 [====================>.........] - ETA: 2s - loss: 0.0423 - accuracy: 0.9861"
          ]
        },
        {
          "output_type": "stream",
          "name": "stderr",
          "text": [
            "[codecarbon INFO @ 14:35:39] Energy consumed for RAM : 0.000099 kWh. RAM Power : 4.753043174743652 W\n",
            "[codecarbon INFO @ 14:35:39] Energy consumed for all CPUs : 0.000886 kWh. Total CPU Power : 42.5 W\n"
          ]
        },
        {
          "output_type": "stream",
          "name": "stdout",
          "text": [
            "\b\b\b\b\b\b\b\b\b\b\b\b\b\b\b\b\b\b\b\b\b\b\b\b\b\b\b\b\b\b\b\b\b\b\b\b\b\b\b\b\b\b\b\b\b\b\b\b\b\b\b\b\b\b\b\b\b\b\b\b\b\b\b\b\b\b\b\b\b\b\b\b\b\b\b\b\b\b\b\b\b\b\b\b\b\b\r1371/1875 [====================>.........] - ETA: 2s - loss: 0.0425 - accuracy: 0.9861"
          ]
        },
        {
          "output_type": "stream",
          "name": "stderr",
          "text": [
            "[codecarbon INFO @ 14:35:39] 0.000985 kWh of electricity used since the beginning.\n"
          ]
        },
        {
          "output_type": "stream",
          "name": "stdout",
          "text": [
            "1875/1875 [==============================] - 8s 4ms/step - loss: 0.0436 - accuracy: 0.9855\n"
          ]
        },
        {
          "output_type": "stream",
          "name": "stderr",
          "text": [
            "[codecarbon INFO @ 14:35:47] Energy consumed for RAM : 0.000110 kWh. RAM Power : 4.753043174743652 W\n",
            "[codecarbon INFO @ 14:35:47] Energy consumed for all CPUs : 0.000984 kWh. Total CPU Power : 42.5 W\n",
            "[codecarbon INFO @ 14:35:47] 0.001094 kWh of electricity used since the beginning.\n"
          ]
        },
        {
          "output_type": "stream",
          "name": "stdout",
          "text": [
            "0.0008072716544301166\n"
          ]
        }
      ]
    },
    {
      "cell_type": "markdown",
      "source": [
        "[Ref](https://https://github.com/mlco2/codecarbon/tree/master/examples)"
      ],
      "metadata": {
        "id": "zqk6OfNIwNiN"
      }
    },
    {
      "cell_type": "code",
      "source": [],
      "metadata": {
        "id": "7jSHuYGuwQWP"
      },
      "execution_count": null,
      "outputs": []
    }
  ]
}